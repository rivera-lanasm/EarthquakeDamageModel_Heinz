{
 "cells": [
  {
   "cell_type": "code",
   "execution_count": 1,
   "id": "c5213b05-68fa-416a-9ba3-6d8a057b2b96",
   "metadata": {},
   "outputs": [],
   "source": [
    "import pandas as pd "
   ]
  },
  {
   "cell_type": "code",
   "execution_count": 2,
   "id": "b5f791d7-e4a5-4ee8-99e0-f607f1161943",
   "metadata": {},
   "outputs": [],
   "source": [
    "output = pd.read_csv(\"Data/final_output.csv\")"
   ]
  },
  {
   "cell_type": "markdown",
   "id": "21fd1786-32f7-4bc2-9582-61cf1b86290c",
   "metadata": {},
   "source": [
    "### assumptions for scenario analysis (low, medium, high)\n",
    "- level of utility loss --> this relates to the habitability of \"usable\" buildings\n",
    "\n",
    "### Building Usability (red tagging)\n",
    "- Slight Damage: 100% Fully Usable\n",
    "- Moderate Damage: 87% Fully Usable, 13% partially usable, 0% not usable\n",
    "- Extensive Damage: 22% Fully Usable, 25% partially usable, 53% not usable\n",
    "- Complete Damage: 0% Fully Usable, 2% partially Usable, 98% not usable\n",
    "\n",
    "### Utility Loss Level\n",
    "- low:\n",
    "- medium:\n",
    "- high:\n",
    "- \n",
    "**related to the proportion of total buildings that are categorized with Extensive OR Complete Buildings**\n",
    "\n",
    "UL_SEVERITY = {\n",
    "    \"low\": {\"FU\":[.05,0.1], \"PU\": [0.05,.1]},\n",
    "    \"medium\":{\"FU\": [0,.1], \"PU\": [.3,.5]},\n",
    "    \"high\":{\"FU\": [.1,.3], \"PU\": [.6, .8]}\n",
    "    }\n",
    "\n",
    "### Building Habitability (Related to Power & Water Utility Loss)\n",
    "- low: \n",
    "    - 5-10% of Fully Usable Buildings are **not habitable** due to utility loss\n",
    "    - 5-10% of Partially Usable Buildings are **not habitable** due to utility loss\n",
    "- medium:\n",
    "- high:\n",
    "\n"
   ]
  },
  {
   "cell_type": "code",
   "execution_count": 3,
   "id": "855b147e-ffe3-4ca3-ac6a-b7c7c1b49a80",
   "metadata": {},
   "outputs": [
    {
     "data": {
      "text/html": [
       "<div>\n",
       "<style scoped>\n",
       "    .dataframe tbody tr th:only-of-type {\n",
       "        vertical-align: middle;\n",
       "    }\n",
       "\n",
       "    .dataframe tbody tr th {\n",
       "        vertical-align: top;\n",
       "    }\n",
       "\n",
       "    .dataframe thead th {\n",
       "        text-align: right;\n",
       "    }\n",
       "</style>\n",
       "<table border=\"1\" class=\"dataframe\">\n",
       "  <thead>\n",
       "    <tr style=\"text-align: right;\">\n",
       "      <th></th>\n",
       "      <th>GEOID</th>\n",
       "      <th>max_intensity</th>\n",
       "      <th>population</th>\n",
       "      <th>Total_Num_Building</th>\n",
       "      <th>risk_level</th>\n",
       "      <th>BHI_factor_low</th>\n",
       "      <th>shelter_seeking_low</th>\n",
       "      <th>Total_Num_Building_Slight</th>\n",
       "      <th>Total_Num_Building_Moderate</th>\n",
       "      <th>Total_Num_Building_Extensive</th>\n",
       "      <th>Total_Num_Building_Complete</th>\n",
       "      <th>SVI_Value</th>\n",
       "      <th>SVI_Value_Mapped</th>\n",
       "    </tr>\n",
       "  </thead>\n",
       "  <tbody>\n",
       "    <tr>\n",
       "      <th>0</th>\n",
       "      <td>6055200501</td>\n",
       "      <td>0.54</td>\n",
       "      <td>5159</td>\n",
       "      <td>1364.0</td>\n",
       "      <td>low</td>\n",
       "      <td>0.0966</td>\n",
       "      <td>149.57427</td>\n",
       "      <td>605.408212</td>\n",
       "      <td>3.847731e+02</td>\n",
       "      <td>9.186632e+01</td>\n",
       "      <td>3.207327e+01</td>\n",
       "      <td>0.8482</td>\n",
       "      <td>0.3</td>\n",
       "    </tr>\n",
       "    <tr>\n",
       "      <th>1</th>\n",
       "      <td>6055200504</td>\n",
       "      <td>0.50</td>\n",
       "      <td>6577</td>\n",
       "      <td>1483.0</td>\n",
       "      <td>low</td>\n",
       "      <td>0.0632</td>\n",
       "      <td>124.76973</td>\n",
       "      <td>716.302826</td>\n",
       "      <td>3.173575e+02</td>\n",
       "      <td>5.250708e+01</td>\n",
       "      <td>1.328479e+01</td>\n",
       "      <td>0.8705</td>\n",
       "      <td>0.3</td>\n",
       "    </tr>\n",
       "    <tr>\n",
       "      <th>2</th>\n",
       "      <td>6055200301</td>\n",
       "      <td>0.50</td>\n",
       "      <td>5602</td>\n",
       "      <td>1433.0</td>\n",
       "      <td>low</td>\n",
       "      <td>0.0599</td>\n",
       "      <td>100.60920</td>\n",
       "      <td>696.298494</td>\n",
       "      <td>3.069323e+02</td>\n",
       "      <td>4.509956e+01</td>\n",
       "      <td>1.086898e+01</td>\n",
       "      <td>0.9483</td>\n",
       "      <td>0.3</td>\n",
       "    </tr>\n",
       "    <tr>\n",
       "      <th>3</th>\n",
       "      <td>6095251802</td>\n",
       "      <td>0.34</td>\n",
       "      <td>3132</td>\n",
       "      <td>721.0</td>\n",
       "      <td>low</td>\n",
       "      <td>0.0959</td>\n",
       "      <td>90.08190</td>\n",
       "      <td>244.496228</td>\n",
       "      <td>1.780325e+02</td>\n",
       "      <td>7.552994e+01</td>\n",
       "      <td>6.311810e+00</td>\n",
       "      <td>0.9877</td>\n",
       "      <td>0.3</td>\n",
       "    </tr>\n",
       "    <tr>\n",
       "      <th>4</th>\n",
       "      <td>6055201004</td>\n",
       "      <td>0.32</td>\n",
       "      <td>6836</td>\n",
       "      <td>1615.0</td>\n",
       "      <td>low</td>\n",
       "      <td>0.0584</td>\n",
       "      <td>79.77838</td>\n",
       "      <td>566.650221</td>\n",
       "      <td>2.513993e+02</td>\n",
       "      <td>8.679957e+01</td>\n",
       "      <td>5.394379e+00</td>\n",
       "      <td>0.6287</td>\n",
       "      <td>0.2</td>\n",
       "    </tr>\n",
       "    <tr>\n",
       "      <th>...</th>\n",
       "      <td>...</td>\n",
       "      <td>...</td>\n",
       "      <td>...</td>\n",
       "      <td>...</td>\n",
       "      <td>...</td>\n",
       "      <td>...</td>\n",
       "      <td>...</td>\n",
       "      <td>...</td>\n",
       "      <td>...</td>\n",
       "      <td>...</td>\n",
       "      <td>...</td>\n",
       "      <td>...</td>\n",
       "      <td>...</td>\n",
       "    </tr>\n",
       "    <tr>\n",
       "      <th>2249</th>\n",
       "      <td>6075980501</td>\n",
       "      <td>0.02</td>\n",
       "      <td>125</td>\n",
       "      <td>16.0</td>\n",
       "      <td>low</td>\n",
       "      <td>0.0000</td>\n",
       "      <td>NaN</td>\n",
       "      <td>0.000766</td>\n",
       "      <td>2.509956e-08</td>\n",
       "      <td>1.609426e-13</td>\n",
       "      <td>7.737967e-20</td>\n",
       "      <td>-999.0000</td>\n",
       "      <td>NaN</td>\n",
       "    </tr>\n",
       "    <tr>\n",
       "      <th>2250</th>\n",
       "      <td>6075980200</td>\n",
       "      <td>0.02</td>\n",
       "      <td>79</td>\n",
       "      <td>37.0</td>\n",
       "      <td>low</td>\n",
       "      <td>0.0000</td>\n",
       "      <td>NaN</td>\n",
       "      <td>0.000031</td>\n",
       "      <td>1.872836e-11</td>\n",
       "      <td>5.278099e-19</td>\n",
       "      <td>5.816519e-28</td>\n",
       "      <td>-999.0000</td>\n",
       "      <td>NaN</td>\n",
       "    </tr>\n",
       "    <tr>\n",
       "      <th>2251</th>\n",
       "      <td>6041122000</td>\n",
       "      <td>0.02</td>\n",
       "      <td>3669</td>\n",
       "      <td>197.0</td>\n",
       "      <td>low</td>\n",
       "      <td>0.0000</td>\n",
       "      <td>NaN</td>\n",
       "      <td>0.009973</td>\n",
       "      <td>2.864863e-08</td>\n",
       "      <td>6.963310e-16</td>\n",
       "      <td>6.843650e-27</td>\n",
       "      <td>-999.0000</td>\n",
       "      <td>NaN</td>\n",
       "    </tr>\n",
       "    <tr>\n",
       "      <th>2252</th>\n",
       "      <td>6109985202</td>\n",
       "      <td>0.01</td>\n",
       "      <td>2734</td>\n",
       "      <td>76.0</td>\n",
       "      <td>low</td>\n",
       "      <td>0.0000</td>\n",
       "      <td>NaN</td>\n",
       "      <td>0.000114</td>\n",
       "      <td>1.346072e-10</td>\n",
       "      <td>4.117328e-18</td>\n",
       "      <td>4.540028e-27</td>\n",
       "      <td>-999.0000</td>\n",
       "      <td>NaN</td>\n",
       "    </tr>\n",
       "    <tr>\n",
       "      <th>2253</th>\n",
       "      <td>6075980401</td>\n",
       "      <td>0.01</td>\n",
       "      <td>0</td>\n",
       "      <td>0.0</td>\n",
       "      <td>low</td>\n",
       "      <td>NaN</td>\n",
       "      <td>NaN</td>\n",
       "      <td>0.000000</td>\n",
       "      <td>0.000000e+00</td>\n",
       "      <td>0.000000e+00</td>\n",
       "      <td>0.000000e+00</td>\n",
       "      <td>-999.0000</td>\n",
       "      <td>NaN</td>\n",
       "    </tr>\n",
       "  </tbody>\n",
       "</table>\n",
       "<p>2254 rows × 13 columns</p>\n",
       "</div>"
      ],
      "text/plain": [
       "           GEOID  max_intensity  population  Total_Num_Building risk_level  \\\n",
       "0     6055200501           0.54        5159              1364.0        low   \n",
       "1     6055200504           0.50        6577              1483.0        low   \n",
       "2     6055200301           0.50        5602              1433.0        low   \n",
       "3     6095251802           0.34        3132               721.0        low   \n",
       "4     6055201004           0.32        6836              1615.0        low   \n",
       "...          ...            ...         ...                 ...        ...   \n",
       "2249  6075980501           0.02         125                16.0        low   \n",
       "2250  6075980200           0.02          79                37.0        low   \n",
       "2251  6041122000           0.02        3669               197.0        low   \n",
       "2252  6109985202           0.01        2734                76.0        low   \n",
       "2253  6075980401           0.01           0                 0.0        low   \n",
       "\n",
       "      BHI_factor_low  shelter_seeking_low  Total_Num_Building_Slight  \\\n",
       "0             0.0966            149.57427                 605.408212   \n",
       "1             0.0632            124.76973                 716.302826   \n",
       "2             0.0599            100.60920                 696.298494   \n",
       "3             0.0959             90.08190                 244.496228   \n",
       "4             0.0584             79.77838                 566.650221   \n",
       "...              ...                  ...                        ...   \n",
       "2249          0.0000                  NaN                   0.000766   \n",
       "2250          0.0000                  NaN                   0.000031   \n",
       "2251          0.0000                  NaN                   0.009973   \n",
       "2252          0.0000                  NaN                   0.000114   \n",
       "2253             NaN                  NaN                   0.000000   \n",
       "\n",
       "      Total_Num_Building_Moderate  Total_Num_Building_Extensive  \\\n",
       "0                    3.847731e+02                  9.186632e+01   \n",
       "1                    3.173575e+02                  5.250708e+01   \n",
       "2                    3.069323e+02                  4.509956e+01   \n",
       "3                    1.780325e+02                  7.552994e+01   \n",
       "4                    2.513993e+02                  8.679957e+01   \n",
       "...                           ...                           ...   \n",
       "2249                 2.509956e-08                  1.609426e-13   \n",
       "2250                 1.872836e-11                  5.278099e-19   \n",
       "2251                 2.864863e-08                  6.963310e-16   \n",
       "2252                 1.346072e-10                  4.117328e-18   \n",
       "2253                 0.000000e+00                  0.000000e+00   \n",
       "\n",
       "      Total_Num_Building_Complete  SVI_Value  SVI_Value_Mapped  \n",
       "0                    3.207327e+01     0.8482               0.3  \n",
       "1                    1.328479e+01     0.8705               0.3  \n",
       "2                    1.086898e+01     0.9483               0.3  \n",
       "3                    6.311810e+00     0.9877               0.3  \n",
       "4                    5.394379e+00     0.6287               0.2  \n",
       "...                           ...        ...               ...  \n",
       "2249                 7.737967e-20  -999.0000               NaN  \n",
       "2250                 5.816519e-28  -999.0000               NaN  \n",
       "2251                 6.843650e-27  -999.0000               NaN  \n",
       "2252                 4.540028e-27  -999.0000               NaN  \n",
       "2253                 0.000000e+00  -999.0000               NaN  \n",
       "\n",
       "[2254 rows x 13 columns]"
      ]
     },
     "execution_count": 3,
     "metadata": {},
     "output_type": "execute_result"
    }
   ],
   "source": [
    "output"
   ]
  },
  {
   "cell_type": "markdown",
   "id": "eb715e47-4820-49b3-99c9-360576de92ac",
   "metadata": {},
   "source": [
    "## buildings"
   ]
  },
  {
   "cell_type": "code",
   "execution_count": 5,
   "id": "b8e6e19c-6a9c-44b5-b411-eef4eea1b557",
   "metadata": {},
   "outputs": [
    {
     "data": {
      "text/plain": [
       "Total_Num_Building              2.937237e+06\n",
       "Total_Num_Building_Slight       2.897726e+04\n",
       "Total_Num_Building_Moderate     8.153343e+03\n",
       "Total_Num_Building_Extensive    1.036409e+03\n",
       "Total_Num_Building_Complete     1.586960e+02\n",
       "dtype: float64"
      ]
     },
     "execution_count": 5,
     "metadata": {},
     "output_type": "execute_result"
    }
   ],
   "source": [
    "output[[\"Total_Num_Building\", \"Total_Num_Building_Slight\", \"Total_Num_Building_Moderate\", \"Total_Num_Building_Extensive\", \"Total_Num_Building_Complete\"]].sum().round(4)\n",
    "\n",
    "\n"
   ]
  },
  {
   "cell_type": "code",
   "execution_count": 5,
   "id": "3cbf1d30-7f42-4b44-9e37-4580cf15f632",
   "metadata": {},
   "outputs": [
    {
     "data": {
      "text/plain": [
       "Index(['GEOID', 'max_intensity', 'population', 'Total_Num_Building',\n",
       "       'risk_level', 'BHI_factor_low', 'shelter_seeking_low',\n",
       "       'Total_Num_Building_Slight', 'Total_Num_Building_Moderate',\n",
       "       'Total_Num_Building_Extensive', 'Total_Num_Building_Complete',\n",
       "       'SVI_Value', 'SVI_Value_Mapped'],\n",
       "      dtype='object')"
      ]
     },
     "execution_count": 5,
     "metadata": {},
     "output_type": "execute_result"
    }
   ],
   "source": [
    "output.columns"
   ]
  },
  {
   "cell_type": "markdown",
   "id": "9a512f9b-1bb4-466d-b201-df0f99812c24",
   "metadata": {},
   "source": [
    "### Part 4 Output"
   ]
  },
  {
   "cell_type": "code",
   "execution_count": 10,
   "id": "d8cb07f1-e667-4725-a173-b2febd985885",
   "metadata": {},
   "outputs": [
    {
     "data": {
      "text/plain": [
       "Total_Num_Building_Slight       28977.256330\n",
       "Total_Num_Building_Moderate      8153.342769\n",
       "Total_Num_Building_Extensive     1036.409517\n",
       "Total_Num_Building_Complete       158.695974\n",
       "dtype: float64"
      ]
     },
     "execution_count": 10,
     "metadata": {},
     "output_type": "execute_result"
    }
   ],
   "source": [
    "p4 = output[[\"GEOID\", \"Total_Num_Building\", \"max_intensity\", \"Total_Num_Building_Slight\",\n",
    "        \"Total_Num_Building_Moderate\", \"Total_Num_Building_Extensive\", \n",
    "        \"Total_Num_Building_Complete\"]]\n",
    "p4[[\"Total_Num_Building_Slight\",\n",
    "    \"Total_Num_Building_Moderate\", \n",
    "    \"Total_Num_Building_Extensive\",\n",
    "    \"Total_Num_Building_Complete\"]].sum()\n",
    "\n"
   ]
  },
  {
   "cell_type": "code",
   "execution_count": 12,
   "id": "d5e2071c-5c78-4b07-a79e-f65f38a5ac6b",
   "metadata": {},
   "outputs": [
    {
     "data": {
      "text/plain": [
       "Total_Num_Building_Slight       0.986548\n",
       "Total_Num_Building_Moderate     0.277585\n",
       "Total_Num_Building_Extensive    0.035285\n",
       "Total_Num_Building_Complete     0.005403\n",
       "dtype: float64"
      ]
     },
     "execution_count": 12,
     "metadata": {},
     "output_type": "execute_result"
    }
   ],
   "source": [
    "100*(p4[[\"Total_Num_Building_Slight\",\n",
    "    \"Total_Num_Building_Moderate\", \n",
    "    \"Total_Num_Building_Extensive\",\n",
    "    \"Total_Num_Building_Complete\"]].sum() / p4[\"Total_Num_Building\"].sum())"
   ]
  },
  {
   "cell_type": "code",
   "execution_count": 15,
   "id": "7f0cd810-9eda-4fc4-8353-d3376eb16f71",
   "metadata": {},
   "outputs": [
    {
     "data": {
      "text/plain": [
       "risk_level\n",
       "low    2254\n",
       "Name: count, dtype: int64"
      ]
     },
     "execution_count": 15,
     "metadata": {},
     "output_type": "execute_result"
    }
   ],
   "source": [
    "output[\"risk_level\"].value_counts()"
   ]
  },
  {
   "cell_type": "code",
   "execution_count": 19,
   "id": "ed1270a8-499f-4396-959e-bb52e2251d68",
   "metadata": {},
   "outputs": [
    {
     "data": {
      "text/plain": [
       "10.559006211180124"
      ]
     },
     "execution_count": 19,
     "metadata": {},
     "output_type": "execute_result"
    }
   ],
   "source": [
    "100*sum(output[\"BHI_factor_low\"]>0)/len(output[\"BHI_factor_low\"]>0)"
   ]
  },
  {
   "cell_type": "code",
   "execution_count": 17,
   "id": "8d4341ec-5dae-4865-864b-f2eb4855c043",
   "metadata": {},
   "outputs": [
    {
     "data": {
      "text/plain": [
       "<Axes: >"
      ]
     },
     "execution_count": 17,
     "metadata": {},
     "output_type": "execute_result"
    },
    {
     "data": {
      "image/png": "[encoded data removed]",
      "text/plain": [
       "<Figure size 640x480 with 1 Axes>"
      ]
     },
     "metadata": {},
     "output_type": "display_data"
    }
   ],
   "source": [
    "output[output[\"BHI_factor_low\"]>0][\"BHI_factor_low\"].hist()"
   ]
  },
  {
   "cell_type": "code",
   "execution_count": 20,
   "id": "95bc9f86-38af-4e19-934b-a0a399a4f4ff",
   "metadata": {},
   "outputs": [
    {
     "data": {
      "text/plain": [
       "SVI_Value_Mapped\n",
       "0.2    944\n",
       "0.0    814\n",
       "0.3    488\n",
       "Name: count, dtype: int64"
      ]
     },
     "execution_count": 20,
     "metadata": {},
     "output_type": "execute_result"
    }
   ],
   "source": [
    "output[\"SVI_Value_Mapped\"].value_counts()"
   ]
  },
  {
   "cell_type": "code",
   "execution_count": 22,
   "id": "e926874f-7fb3-4dcb-ab66-2d27d247ac6c",
   "metadata": {},
   "outputs": [
    {
     "data": {
      "text/plain": [
       "1924.0957900000005"
      ]
     },
     "execution_count": 22,
     "metadata": {},
     "output_type": "execute_result"
    }
   ],
   "source": [
    "output[\"shelter_seeking_low\"].sum()"
   ]
  },
  {
   "cell_type": "markdown",
   "id": "878499e9-490e-4b10-834c-e9a864b1f592",
   "metadata": {},
   "source": [
    "def map_range(val):\n",
    "    \"\"\"\n",
    "    if you have relatively high svi...30% of people living in potentially non habitable will seek shelter potentially.\n",
    "\n",
    "        questions:\n",
    "            1) under what SVI can we basically map the value to 0 --> .4 (above what value are you vulnerable?)\n",
    "            2) for socially vuln, what proportion might seek shelter\n",
    "    \"\"\"\n",
    "    if 0 <= val < 0.2:\n",
    "        return 0 \n",
    "    elif 0.2 <= val < 0.4:\n",
    "        return 0 \n",
    "    elif 0.4 <= val < 0.8:\n",
    "        return .2\n",
    "    elif 0.8 <= val <= 1.0:\n",
    "        return .3\n",
    "    else:\n",
    "        return None "
   ]
  },
  {
   "cell_type": "code",
   "execution_count": 25,
   "id": "32916f4b-e6c3-4e1b-bd00-9dbe4da87683",
   "metadata": {},
   "outputs": [
    {
     "data": {
      "text/plain": [
       "<Axes: >"
      ]
     },
     "execution_count": 25,
     "metadata": {},
     "output_type": "execute_result"
    },
    {
     "data": {
      "image/png": "[encoded data removed]",
      "text/plain": [
       "<Figure size 640x480 with 1 Axes>"
      ]
     },
     "metadata": {},
     "output_type": "display_data"
    }
   ],
   "source": [
    "output[output[\"SVI_Value\"]>0][\"SVI_Value\"].hist()"
   ]
  }
 ],
 "metadata": {
  "kernelspec": {
   "display_name": "Python 3 (ipykernel)",
   "language": "python",
   "name": "python3"
  },
  "language_info": {
   "codemirror_mode": {
    "name": "ipython",
    "version": 3
   },
   "file_extension": ".py",
   "mimetype": "text/x-python",
   "name": "python",
   "nbconvert_exporter": "python",
   "pygments_lexer": "ipython3",
   "version": "3.12.8"
  }
 },
 "nbformat": 4,
 "nbformat_minor": 5
}
