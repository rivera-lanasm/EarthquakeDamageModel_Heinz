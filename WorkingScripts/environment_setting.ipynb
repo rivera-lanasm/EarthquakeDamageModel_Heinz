{
 "cells": [
  {
   "cell_type": "code",
   "execution_count": 19,
   "metadata": {},
   "outputs": [],
   "source": [
    "import os\n",
    "import subprocess\n",
    "import sys"
   ]
  },
  {
   "cell_type": "code",
   "execution_count": 20,
   "metadata": {},
   "outputs": [],
   "source": [
    "parent_dir = os.path.dirname(os.getcwd())"
   ]
  },
  {
   "cell_type": "code",
   "execution_count": 21,
   "metadata": {},
   "outputs": [],
   "source": [
    "# check if directory exist if not make it, return path\n",
    "def make_directories():\n",
    "    \"\"\"Create directories for data storage if they do not exist.\"\"\"\n",
    "    data_path = os.path.join(parent_dir, 'Data')\n",
    "    if not os.path.exists(data_path):\n",
    "        os.makedirs(data_path)\n",
    "    \n",
    "    building_data_csv = os.path.join(data_path, 'building_data_csv')\n",
    "    building_data_gdb = os.path.join(data_path, 'building_data_gdb')\n",
    "    building_stock_data = os.path.join(data_path, 'building_stock_data')\n",
    "    census_shp = os.path.join(data_path, 'census_shp')\n",
    "    extracted_census_shp = os.path.join(data_path, 'extracted_census_shp')\n",
    "    merged_shapefile = os.path.join(data_path, 'merged_shapefile')\n",
    "    if not os.path.exists(building_data_csv):\n",
    "        os.makedirs(building_data_csv)\n",
    "    if not os.path.exists(building_data_gdb):\n",
    "        os.makedirs(building_data_gdb)\n",
    "    if not os.path.exists(building_stock_data):\n",
    "        os.makedirs(building_stock_data)\n",
    "    if not os.path.exists(census_shp):\n",
    "        os.makedirs(census_shp)\n",
    "    if not os.path.exists(extracted_census_shp):\n",
    "        os.makedirs(extracted_census_shp)\n",
    "    if not os.path.exists(merged_shapefile):\n",
    "        os.makedirs(merged_shapefile)\n",
    "    \n",
    "    ShakeMaps = os.path.join(parent_dir, 'ShakeMaps')\n",
    "    if not os.path.exists(ShakeMaps):\n",
    "        os.makedirs(ShakeMaps)\n",
    "\n",
    "    return building_data_csv, building_data_gdb, building_stock_data"
   ]
  },
  {
   "cell_type": "code",
   "execution_count": 22,
   "metadata": {},
   "outputs": [],
   "source": [
    "def install_req():\n",
    "    \"\"\"Install required packages for the script.\"\"\"\n",
    "    # read requirements.txt\n",
    "    # and install the packages\n",
    "    requirements_file = os.path.join(parent_dir, 'requirements.txt')\n",
    "    required_packages = []\n",
    "    with open(requirements_file, 'r') as f:\n",
    "        for line in f:\n",
    "            package = line.strip()\n",
    "            if package and not package.startswith('#'):\n",
    "                required_packages.append(package)\n",
    "    for package in required_packages:\n",
    "        subprocess.check_call([sys.executable, '-m', 'pip', 'install', package])"
   ]
  },
  {
   "cell_type": "code",
   "execution_count": 23,
   "metadata": {},
   "outputs": [],
   "source": [
    "def setting_env():\n",
    "    \"\"\"Set up the environment for the script.\"\"\"\n",
    "    make_directories()\n",
    "    install_req()\n",
    "    print(\"Environment is set up successfully.\")"
   ]
  },
  {
   "cell_type": "code",
   "execution_count": null,
   "metadata": {},
   "outputs": [
    {
     "name": "stdout",
     "output_type": "stream",
     "text": [
      "Requirement already satisfied: geopandas==1.0.1 in /opt/anaconda3/envs/capstone/lib/python3.12/site-packages (1.0.1)\n",
      "Requirement already satisfied: numpy>=1.22 in /opt/anaconda3/envs/capstone/lib/python3.12/site-packages (from geopandas==1.0.1) (1.26.4)\n",
      "Requirement already satisfied: pyogrio>=0.7.2 in /opt/anaconda3/envs/capstone/lib/python3.12/site-packages (from geopandas==1.0.1) (0.10.0)\n",
      "Requirement already satisfied: packaging in /opt/anaconda3/envs/capstone/lib/python3.12/site-packages (from geopandas==1.0.1) (24.2)\n",
      "Requirement already satisfied: pandas>=1.4.0 in /opt/anaconda3/envs/capstone/lib/python3.12/site-packages (from geopandas==1.0.1) (2.2.2)\n",
      "Requirement already satisfied: pyproj>=3.3.0 in /opt/anaconda3/envs/capstone/lib/python3.12/site-packages (from geopandas==1.0.1) (3.7.0)\n",
      "Requirement already satisfied: shapely>=2.0.0 in /opt/anaconda3/envs/capstone/lib/python3.12/site-packages (from geopandas==1.0.1) (2.0.7)\n",
      "Requirement already satisfied: python-dateutil>=2.8.2 in /opt/anaconda3/envs/capstone/lib/python3.12/site-packages (from pandas>=1.4.0->geopandas==1.0.1) (2.9.0.post0)\n",
      "Requirement already satisfied: pytz>=2020.1 in /opt/anaconda3/envs/capstone/lib/python3.12/site-packages (from pandas>=1.4.0->geopandas==1.0.1) (2025.1)\n",
      "Requirement already satisfied: tzdata>=2022.7 in /opt/anaconda3/envs/capstone/lib/python3.12/site-packages (from pandas>=1.4.0->geopandas==1.0.1) (2025.1)\n",
      "Requirement already satisfied: certifi in /opt/anaconda3/envs/capstone/lib/python3.12/site-packages (from pyogrio>=0.7.2->geopandas==1.0.1) (2025.1.31)\n",
      "Requirement already satisfied: six>=1.5 in /opt/anaconda3/envs/capstone/lib/python3.12/site-packages (from python-dateutil>=2.8.2->pandas>=1.4.0->geopandas==1.0.1) (1.17.0)\n",
      "Requirement already satisfied: pandas==2.2.2 in /opt/anaconda3/envs/capstone/lib/python3.12/site-packages (2.2.2)\n",
      "Requirement already satisfied: numpy>=1.26.0 in /opt/anaconda3/envs/capstone/lib/python3.12/site-packages (from pandas==2.2.2) (1.26.4)\n",
      "Requirement already satisfied: python-dateutil>=2.8.2 in /opt/anaconda3/envs/capstone/lib/python3.12/site-packages (from pandas==2.2.2) (2.9.0.post0)\n",
      "Requirement already satisfied: pytz>=2020.1 in /opt/anaconda3/envs/capstone/lib/python3.12/site-packages (from pandas==2.2.2) (2025.1)\n",
      "Requirement already satisfied: tzdata>=2022.7 in /opt/anaconda3/envs/capstone/lib/python3.12/site-packages (from pandas==2.2.2) (2025.1)\n",
      "Requirement already satisfied: six>=1.5 in /opt/anaconda3/envs/capstone/lib/python3.12/site-packages (from python-dateutil>=2.8.2->pandas==2.2.2) (1.17.0)\n",
      "Requirement already satisfied: requests in /opt/anaconda3/envs/capstone/lib/python3.12/site-packages (2.32.3)\n",
      "Requirement already satisfied: charset-normalizer<4,>=2 in /opt/anaconda3/envs/capstone/lib/python3.12/site-packages (from requests) (3.4.1)\n",
      "Requirement already satisfied: idna<4,>=2.5 in /opt/anaconda3/envs/capstone/lib/python3.12/site-packages (from requests) (3.10)\n",
      "Requirement already satisfied: urllib3<3,>=1.21.1 in /opt/anaconda3/envs/capstone/lib/python3.12/site-packages (from requests) (1.26.20)\n",
      "Requirement already satisfied: certifi>=2017.4.17 in /opt/anaconda3/envs/capstone/lib/python3.12/site-packages (from requests) (2025.1.31)\n",
      "Requirement already satisfied: zipfile36 in /opt/anaconda3/envs/capstone/lib/python3.12/site-packages (0.1.3)\n",
      "Requirement already satisfied: Python-IO in /opt/anaconda3/envs/capstone/lib/python3.12/site-packages (0.3)\n",
      "Requirement already satisfied: customtkinter in /opt/anaconda3/envs/capstone/lib/python3.12/site-packages (from Python-IO) (5.2.2)\n",
      "Requirement already satisfied: requests in /opt/anaconda3/envs/capstone/lib/python3.12/site-packages (from Python-IO) (2.32.3)\n",
      "Requirement already satisfied: darkdetect in /opt/anaconda3/envs/capstone/lib/python3.12/site-packages (from customtkinter->Python-IO) (0.8.0)\n",
      "Requirement already satisfied: packaging in /opt/anaconda3/envs/capstone/lib/python3.12/site-packages (from customtkinter->Python-IO) (24.2)\n",
      "Requirement already satisfied: charset-normalizer<4,>=2 in /opt/anaconda3/envs/capstone/lib/python3.12/site-packages (from requests->Python-IO) (3.4.1)\n",
      "Requirement already satisfied: idna<4,>=2.5 in /opt/anaconda3/envs/capstone/lib/python3.12/site-packages (from requests->Python-IO) (3.10)\n",
      "Requirement already satisfied: urllib3<3,>=1.21.1 in /opt/anaconda3/envs/capstone/lib/python3.12/site-packages (from requests->Python-IO) (1.26.20)\n",
      "Requirement already satisfied: certifi>=2017.4.17 in /opt/anaconda3/envs/capstone/lib/python3.12/site-packages (from requests->Python-IO) (2025.1.31)\n",
      "Requirement already satisfied: datetime in /opt/anaconda3/envs/capstone/lib/python3.12/site-packages (5.5)\n",
      "Requirement already satisfied: zope.interface in /opt/anaconda3/envs/capstone/lib/python3.12/site-packages (from datetime) (7.2)\n",
      "Requirement already satisfied: pytz in /opt/anaconda3/envs/capstone/lib/python3.12/site-packages (from datetime) (2025.1)\n",
      "Requirement already satisfied: setuptools in /opt/anaconda3/envs/capstone/lib/python3.12/site-packages (from zope.interface->datetime) (75.8.0)\n",
      "Requirement already satisfied: glob2 in /opt/anaconda3/envs/capstone/lib/python3.12/site-packages (0.7)\n",
      "Requirement already satisfied: bs4 in /opt/anaconda3/envs/capstone/lib/python3.12/site-packages (0.0.2)\n",
      "Requirement already satisfied: beautifulsoup4 in /opt/anaconda3/envs/capstone/lib/python3.12/site-packages (from bs4) (4.13.3)\n",
      "Requirement already satisfied: soupsieve>1.2 in /opt/anaconda3/envs/capstone/lib/python3.12/site-packages (from beautifulsoup4->bs4) (2.6)\n",
      "Requirement already satisfied: typing-extensions>=4.0.0 in /opt/anaconda3/envs/capstone/lib/python3.12/site-packages (from beautifulsoup4->bs4) (4.12.2)\n",
      "Requirement already satisfied: numpy in /opt/anaconda3/envs/capstone/lib/python3.12/site-packages (1.26.4)\n",
      "Environment is set up successfully.\n"
     ]
    }
   ],
   "source": [
    "if __name__ == \"__main__\":\n",
    "    setting_env()"
   ]
  }
 ],
 "metadata": {
  "kernelspec": {
   "display_name": "capstone",
   "language": "python",
   "name": "python3"
  },
  "language_info": {
   "codemirror_mode": {
    "name": "ipython",
    "version": 3
   },
   "file_extension": ".py",
   "mimetype": "text/x-python",
   "name": "python",
   "nbconvert_exporter": "python",
   "pygments_lexer": "ipython3",
   "version": "3.12.8"
  }
 },
 "nbformat": 4,
 "nbformat_minor": 2
}
