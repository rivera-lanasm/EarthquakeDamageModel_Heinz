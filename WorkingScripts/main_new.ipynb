{
 "cells": [
  {
   "cell_type": "code",
   "execution_count": 13,
   "metadata": {},
   "outputs": [
    {
     "name": "stdout",
     "output_type": "stream",
     "text": [
      "Requirement already satisfied: geopandas==1.0.1 in /opt/anaconda3/envs/capstone/lib/python3.12/site-packages (1.0.1)\n",
      "Requirement already satisfied: numpy>=1.22 in /opt/anaconda3/envs/capstone/lib/python3.12/site-packages (from geopandas==1.0.1) (1.26.4)\n",
      "Requirement already satisfied: pyogrio>=0.7.2 in /opt/anaconda3/envs/capstone/lib/python3.12/site-packages (from geopandas==1.0.1) (0.10.0)\n",
      "Requirement already satisfied: packaging in /opt/anaconda3/envs/capstone/lib/python3.12/site-packages (from geopandas==1.0.1) (24.2)\n",
      "Requirement already satisfied: pandas>=1.4.0 in /opt/anaconda3/envs/capstone/lib/python3.12/site-packages (from geopandas==1.0.1) (2.2.2)\n",
      "Requirement already satisfied: pyproj>=3.3.0 in /opt/anaconda3/envs/capstone/lib/python3.12/site-packages (from geopandas==1.0.1) (3.7.0)\n",
      "Requirement already satisfied: shapely>=2.0.0 in /opt/anaconda3/envs/capstone/lib/python3.12/site-packages (from geopandas==1.0.1) (2.0.7)\n",
      "Requirement already satisfied: python-dateutil>=2.8.2 in /opt/anaconda3/envs/capstone/lib/python3.12/site-packages (from pandas>=1.4.0->geopandas==1.0.1) (2.9.0.post0)\n",
      "Requirement already satisfied: pytz>=2020.1 in /opt/anaconda3/envs/capstone/lib/python3.12/site-packages (from pandas>=1.4.0->geopandas==1.0.1) (2025.1)\n",
      "Requirement already satisfied: tzdata>=2022.7 in /opt/anaconda3/envs/capstone/lib/python3.12/site-packages (from pandas>=1.4.0->geopandas==1.0.1) (2025.1)\n",
      "Requirement already satisfied: certifi in /opt/anaconda3/envs/capstone/lib/python3.12/site-packages (from pyogrio>=0.7.2->geopandas==1.0.1) (2025.1.31)\n",
      "Requirement already satisfied: six>=1.5 in /opt/anaconda3/envs/capstone/lib/python3.12/site-packages (from python-dateutil>=2.8.2->pandas>=1.4.0->geopandas==1.0.1) (1.17.0)\n",
      "Requirement already satisfied: pandas==2.2.2 in /opt/anaconda3/envs/capstone/lib/python3.12/site-packages (2.2.2)\n",
      "Requirement already satisfied: numpy>=1.26.0 in /opt/anaconda3/envs/capstone/lib/python3.12/site-packages (from pandas==2.2.2) (1.26.4)\n",
      "Requirement already satisfied: python-dateutil>=2.8.2 in /opt/anaconda3/envs/capstone/lib/python3.12/site-packages (from pandas==2.2.2) (2.9.0.post0)\n",
      "Requirement already satisfied: pytz>=2020.1 in /opt/anaconda3/envs/capstone/lib/python3.12/site-packages (from pandas==2.2.2) (2025.1)\n",
      "Requirement already satisfied: tzdata>=2022.7 in /opt/anaconda3/envs/capstone/lib/python3.12/site-packages (from pandas==2.2.2) (2025.1)\n",
      "Requirement already satisfied: six>=1.5 in /opt/anaconda3/envs/capstone/lib/python3.12/site-packages (from python-dateutil>=2.8.2->pandas==2.2.2) (1.17.0)\n",
      "Requirement already satisfied: requests in /opt/anaconda3/envs/capstone/lib/python3.12/site-packages (2.32.3)\n",
      "Requirement already satisfied: charset-normalizer<4,>=2 in /opt/anaconda3/envs/capstone/lib/python3.12/site-packages (from requests) (3.4.1)\n",
      "Requirement already satisfied: idna<4,>=2.5 in /opt/anaconda3/envs/capstone/lib/python3.12/site-packages (from requests) (3.10)\n",
      "Requirement already satisfied: urllib3<3,>=1.21.1 in /opt/anaconda3/envs/capstone/lib/python3.12/site-packages (from requests) (1.26.20)\n",
      "Requirement already satisfied: certifi>=2017.4.17 in /opt/anaconda3/envs/capstone/lib/python3.12/site-packages (from requests) (2025.1.31)\n",
      "Requirement already satisfied: zipfile36 in /opt/anaconda3/envs/capstone/lib/python3.12/site-packages (0.1.3)\n",
      "Requirement already satisfied: Python-IO in /opt/anaconda3/envs/capstone/lib/python3.12/site-packages (0.3)\n",
      "Requirement already satisfied: customtkinter in /opt/anaconda3/envs/capstone/lib/python3.12/site-packages (from Python-IO) (5.2.2)\n",
      "Requirement already satisfied: requests in /opt/anaconda3/envs/capstone/lib/python3.12/site-packages (from Python-IO) (2.32.3)\n",
      "Requirement already satisfied: darkdetect in /opt/anaconda3/envs/capstone/lib/python3.12/site-packages (from customtkinter->Python-IO) (0.8.0)\n",
      "Requirement already satisfied: packaging in /opt/anaconda3/envs/capstone/lib/python3.12/site-packages (from customtkinter->Python-IO) (24.2)\n",
      "Requirement already satisfied: charset-normalizer<4,>=2 in /opt/anaconda3/envs/capstone/lib/python3.12/site-packages (from requests->Python-IO) (3.4.1)\n",
      "Requirement already satisfied: idna<4,>=2.5 in /opt/anaconda3/envs/capstone/lib/python3.12/site-packages (from requests->Python-IO) (3.10)\n",
      "Requirement already satisfied: urllib3<3,>=1.21.1 in /opt/anaconda3/envs/capstone/lib/python3.12/site-packages (from requests->Python-IO) (1.26.20)\n",
      "Requirement already satisfied: certifi>=2017.4.17 in /opt/anaconda3/envs/capstone/lib/python3.12/site-packages (from requests->Python-IO) (2025.1.31)\n",
      "Requirement already satisfied: datetime in /opt/anaconda3/envs/capstone/lib/python3.12/site-packages (5.5)\n",
      "Requirement already satisfied: zope.interface in /opt/anaconda3/envs/capstone/lib/python3.12/site-packages (from datetime) (7.2)\n",
      "Requirement already satisfied: pytz in /opt/anaconda3/envs/capstone/lib/python3.12/site-packages (from datetime) (2025.1)\n",
      "Requirement already satisfied: setuptools in /opt/anaconda3/envs/capstone/lib/python3.12/site-packages (from zope.interface->datetime) (75.8.0)\n",
      "Requirement already satisfied: glob2 in /opt/anaconda3/envs/capstone/lib/python3.12/site-packages (0.7)\n",
      "Requirement already satisfied: bs4 in /opt/anaconda3/envs/capstone/lib/python3.12/site-packages (0.0.2)\n",
      "Requirement already satisfied: beautifulsoup4 in /opt/anaconda3/envs/capstone/lib/python3.12/site-packages (from bs4) (4.13.3)\n",
      "Requirement already satisfied: soupsieve>1.2 in /opt/anaconda3/envs/capstone/lib/python3.12/site-packages (from beautifulsoup4->bs4) (2.6)\n",
      "Requirement already satisfied: typing-extensions>=4.0.0 in /opt/anaconda3/envs/capstone/lib/python3.12/site-packages (from beautifulsoup4->bs4) (4.12.2)\n",
      "Requirement already satisfied: numpy in /opt/anaconda3/envs/capstone/lib/python3.12/site-packages (1.26.4)\n",
      "Environment is set up successfully.\n"
     ]
    }
   ],
   "source": [
    "import environment_setting as es\n",
    "es.setting_env()"
   ]
  },
  {
   "cell_type": "code",
   "execution_count": 3,
   "metadata": {},
   "outputs": [],
   "source": [
    "import o1_getshakemap as getshakemap"
   ]
  },
  {
   "cell_type": "code",
   "execution_count": 4,
   "metadata": {},
   "outputs": [
    {
     "name": "stdout",
     "output_type": "stream",
     "text": [
      "nc72282711: ShakeMap already downloaded.\n"
     ]
    },
    {
     "data": {
      "text/plain": [
       "'/Users/yusufpradana/Library/CloudStorage/OneDrive-Personal/Gradschool/4_SPRING25/Capstone/github/EarthquakeDamageModel_Heinz/ShakeMaps/nc72282711'"
      ]
     },
     "execution_count": 4,
     "metadata": {},
     "output_type": "execute_result"
    }
   ],
   "source": [
    "# 01\n",
    "EVENTID = \"nc72282711\"  # Example event ID\n",
    "feed_url = getshakemap.FEEDURL.format(EVENTID)\n",
    "jdict = getshakemap.fetch_earthquake_data(feed_url=feed_url)\n",
    "\n",
    "event = getshakemap.retrieve_event_data(jdict)\n",
    "getshakemap.download_and_extract_shakemap(event)"
   ]
  },
  {
   "cell_type": "code",
   "execution_count": 5,
   "metadata": {},
   "outputs": [
    {
     "name": "stdout",
     "output_type": "stream",
     "text": [
      "mi: /Users/yusufpradana/Library/CloudStorage/OneDrive-Personal/Gradschool/4_SPRING25/Capstone/github/EarthquakeDamageModel_Heinz/ShakeMaps/nc72282711/mi.shp\n",
      "pgv: /Users/yusufpradana/Library/CloudStorage/OneDrive-Personal/Gradschool/4_SPRING25/Capstone/github/EarthquakeDamageModel_Heinz/ShakeMaps/nc72282711/pgv.shp\n",
      "pga: /Users/yusufpradana/Library/CloudStorage/OneDrive-Personal/Gradschool/4_SPRING25/Capstone/github/EarthquakeDamageModel_Heinz/ShakeMaps/nc72282711/pga.shp\n",
      "Census tracts shapefile already exists /Users/yusufpradana/Library/CloudStorage/OneDrive-Personal/Gradschool/4_SPRING25/Capstone/github/EarthquakeDamageModel_Heinz/Data/merged_shapefile/Nationwide_Tracts.gpkg\n",
      "---GeoPackage already exists: /Users/yusufpradana/Library/CloudStorage/OneDrive-Personal/Gradschool/4_SPRING25/Capstone/github/EarthquakeDamageModel_Heinz/ShakeMaps/nc72282711/eqmodel_outputs.gpkg\n",
      "Saved shakemap_tractclip_mmi (clipped ShakeMap to tracts) to /Users/yusufpradana/Library/CloudStorage/OneDrive-Personal/Gradschool/4_SPRING25/Capstone/github/EarthquakeDamageModel_Heinz/ShakeMaps/nc72282711/eqmodel_outputs.gpkg\n",
      "Saved shakemap_tractclip_pgv (clipped ShakeMap to tracts) to /Users/yusufpradana/Library/CloudStorage/OneDrive-Personal/Gradschool/4_SPRING25/Capstone/github/EarthquakeDamageModel_Heinz/ShakeMaps/nc72282711/eqmodel_outputs.gpkg\n",
      "Saved shakemap_tractclip_pga (clipped ShakeMap to tracts) to /Users/yusufpradana/Library/CloudStorage/OneDrive-Personal/Gradschool/4_SPRING25/Capstone/github/EarthquakeDamageModel_Heinz/ShakeMaps/nc72282711/eqmodel_outputs.gpkg\n",
      "Saved tract_shakemap_mmi (tract-level ShakeMap statistics) to /Users/yusufpradana/Library/CloudStorage/OneDrive-Personal/Gradschool/4_SPRING25/Capstone/github/EarthquakeDamageModel_Heinz/ShakeMaps/nc72282711/eqmodel_outputs.gpkg\n",
      "Saved tract_shakemap_pgv (tract-level ShakeMap statistics) to /Users/yusufpradana/Library/CloudStorage/OneDrive-Personal/Gradschool/4_SPRING25/Capstone/github/EarthquakeDamageModel_Heinz/ShakeMaps/nc72282711/eqmodel_outputs.gpkg\n",
      "Saved tract_shakemap_pga (tract-level ShakeMap statistics) to /Users/yusufpradana/Library/CloudStorage/OneDrive-Personal/Gradschool/4_SPRING25/Capstone/github/EarthquakeDamageModel_Heinz/ShakeMaps/nc72282711/eqmodel_outputs.gpkg\n"
     ]
    }
   ],
   "source": [
    "import o2_census_intersect as census_intersect\n",
    "import o2_download_census as download_census\n",
    "import os\n",
    "\n",
    "parent_dir = os.path.dirname(os.getcwd())\n",
    "event_dir = os.path.join(parent_dir, 'ShakeMaps', 'nc72282711')\n",
    "\n",
    "census_intersect.shakemap_into_census_geo(event_dir)\n",
    "\n",
    "# Update with the actual path\n",
    "GPKG_PATH = os.path.join(event_dir, \"eqmodel_outputs.gpkg\")"
   ]
  },
  {
   "cell_type": "code",
   "execution_count": 12,
   "metadata": {},
   "outputs": [
    {
     "name": "stdout",
     "output_type": "stream",
     "text": [
      "Skipping building structure update.\n",
      "1. Reading event data for event ID: nc72282711\n",
      "2. Reading building count data...\n",
      "3. Reading building stock data...\n",
      "Building stock data exists at /Users/yusufpradana/Library/CloudStorage/OneDrive-Personal/Gradschool/4_SPRING25/Capstone/github/EarthquakeDamageModel_Heinz/Data/building_stock_data/Building_Percentages_Per_Tract_ALLSTATES.csv\n",
      "4. Merging building count and building stock data...\n",
      "5. Merging event data with building data...\n",
      "6. Saving final output to GeoPackage...\n",
      "Saved tract_shakemap_pga to /Users/yusufpradana/Library/CloudStorage/OneDrive-Personal/Gradschool/4_SPRING25/Capstone/github/EarthquakeDamageModel_Heinz/ShakeMaps/nc72282711/eqmodel_outputs.gpkg (overwritten).\n",
      "Building clip analysis completed for event ID: nc72282711\n",
      "Saving final output to CSV...\n"
     ]
    }
   ],
   "source": [
    "import o3_clip_eventdata_buildingstocks as o3_clip\n",
    "import o3_get_building_structure as o3_get_building\n",
    "\n",
    "\n",
    "prompt = \"Do you want to update the building structure? (y/n): \"\n",
    "update_building = input(prompt).strip().lower()\n",
    "\n",
    "#update_building = input(\"Do you want to update the building structure? (y/n): \").strip().lower()\n",
    "if update_building == 'y':\n",
    "    # Update building structure\n",
    "    o3_get_building.get_building_structure(GPKG_PATH)\n",
    "else:\n",
    "    print(\"Skipping building structure update.\")\n",
    "\n",
    "o3_clip.building_clip_analysis(EVENTID)"
   ]
  }
 ],
 "metadata": {
  "kernelspec": {
   "display_name": "capstone",
   "language": "python",
   "name": "python3"
  },
  "language_info": {
   "codemirror_mode": {
    "name": "ipython",
    "version": 3
   },
   "file_extension": ".py",
   "mimetype": "text/x-python",
   "name": "python",
   "nbconvert_exporter": "python",
   "pygments_lexer": "ipython3",
   "version": "3.12.8"
  }
 },
 "nbformat": 4,
 "nbformat_minor": 2
}
