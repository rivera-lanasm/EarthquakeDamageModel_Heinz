{
  "cells": [
    {
      "cell_type": "markdown",
      "metadata": {
        "id": "Qu7IngZY1N8U"
      },
      "source": [
        "# USER INPUT"
      ]
    },
    {
      "cell_type": "markdown",
      "metadata": {
        "id": "VGD-hFr41T9f"
      },
      "source": [
        "**Paste the Excel Line in the Cell Below!**"
      ]
    },
    {
      "cell_type": "code",
      "execution_count": 1,
      "metadata": {
        "id": "CHBepfhv1TXe"
      },
      "outputs": [],
      "source": [
        "params = {\n",
        "\"event_id\": \"nc73821036\",\n",
        "\"geography\": \"tract\",\n",
        "\"intensity_metric\": \"min\",\n",
        "\"utility_loss_rate\": 0.20\n",
        "}"
      ]
    },
    {
      "cell_type": "markdown",
      "metadata": {
        "id": "F6cPdNtv0yqz"
      },
      "source": [
        "# CODE BASE\n",
        "\n",
        "\n"
      ]
    },
    {
      "cell_type": "code",
      "execution_count": 2,
      "metadata": {
        "id": "8JxApUDAk3oO"
      },
      "outputs": [],
      "source": [
        "EVENTID = params[\"event_id\"]"
      ]
    },
    {
      "cell_type": "code",
      "execution_count": 3,
      "metadata": {
        "id": "yUe7-WU0xNi6"
      },
      "outputs": [],
      "source": [
        "import os"
      ]
    },
    {
      "cell_type": "code",
      "execution_count": 9,
      "metadata": {
        "colab": {
          "base_uri": "https://localhost:8080/"
        },
        "id": "3Ird1YwNlkPg",
        "outputId": "7c1a227c-d5c6-40e5-d133-f8185aea3ab6"
      },
      "outputs": [
        {
          "ename": "ModuleNotFoundError",
          "evalue": "No module named 'google'",
          "output_type": "error",
          "traceback": [
            "\u001b[0;31m---------------------------------------------------------------------------\u001b[0m",
            "\u001b[0;31mModuleNotFoundError\u001b[0m                       Traceback (most recent call last)",
            "Cell \u001b[0;32mIn[9], line 2\u001b[0m\n\u001b[1;32m      1\u001b[0m \u001b[38;5;66;03m# Mount the Google Drive\u001b[39;00m\n\u001b[0;32m----> 2\u001b[0m \u001b[38;5;28;01mfrom\u001b[39;00m\u001b[38;5;250m \u001b[39m\u001b[38;5;21;01mgoogle\u001b[39;00m\u001b[38;5;21;01m.\u001b[39;00m\u001b[38;5;21;01mcolab\u001b[39;00m\u001b[38;5;250m \u001b[39m\u001b[38;5;28;01mimport\u001b[39;00m drive\n\u001b[1;32m      3\u001b[0m drive\u001b[38;5;241m.\u001b[39mmount(\u001b[38;5;124m'\u001b[39m\u001b[38;5;124m/content/drive\u001b[39m\u001b[38;5;124m'\u001b[39m)\n",
            "\u001b[0;31mModuleNotFoundError\u001b[0m: No module named 'google'"
          ]
        }
      ],
      "source": [
        "# Mount the Google Drive\n",
        "from google.colab import drive\n",
        "drive.mount('/content/drive')"
      ]
    },
    {
      "cell_type": "code",
      "execution_count": 5,
      "metadata": {
        "id": "PoLndM6ClkPi"
      },
      "outputs": [],
      "source": [
        "# Setting System to Import Packages\n",
        "import sys\n",
        "sys.path.append('/content/drive/MyDrive/capstone/WorkingScripts')\n",
        "parent_dir = '/content/drive/MyDrive/capstone/'"
      ]
    },
    {
      "cell_type": "code",
      "execution_count": 4,
      "metadata": {},
      "outputs": [],
      "source": [
        "parent_dir = os.path.dirname(os.getcwd())"
      ]
    },
    {
      "cell_type": "markdown",
      "metadata": {
        "id": "X0newIcWrdcC"
      },
      "source": [
        "# SKIP\n"
      ]
    },
    {
      "cell_type": "code",
      "execution_count": 18,
      "metadata": {
        "colab": {
          "base_uri": "https://localhost:8080/"
        },
        "id": "sGWxk4rdlkPi",
        "outputId": "b973480b-c13d-4be4-806c-6d6481168d45"
      },
      "outputs": [
        {
          "name": "stdout",
          "output_type": "stream",
          "text": [
            "Requirement already satisfied: geopandas==1.0.1 in /opt/anaconda3/envs/capstone/lib/python3.12/site-packages (1.0.1)\n",
            "Requirement already satisfied: numpy>=1.22 in /opt/anaconda3/envs/capstone/lib/python3.12/site-packages (from geopandas==1.0.1) (1.26.4)\n",
            "Requirement already satisfied: pyogrio>=0.7.2 in /opt/anaconda3/envs/capstone/lib/python3.12/site-packages (from geopandas==1.0.1) (0.10.0)\n",
            "Requirement already satisfied: packaging in /opt/anaconda3/envs/capstone/lib/python3.12/site-packages (from geopandas==1.0.1) (24.2)\n",
            "Requirement already satisfied: pandas>=1.4.0 in /opt/anaconda3/envs/capstone/lib/python3.12/site-packages (from geopandas==1.0.1) (2.2.2)\n",
            "Requirement already satisfied: pyproj>=3.3.0 in /opt/anaconda3/envs/capstone/lib/python3.12/site-packages (from geopandas==1.0.1) (3.7.0)\n",
            "Requirement already satisfied: shapely>=2.0.0 in /opt/anaconda3/envs/capstone/lib/python3.12/site-packages (from geopandas==1.0.1) (2.0.7)\n",
            "Requirement already satisfied: python-dateutil>=2.8.2 in /opt/anaconda3/envs/capstone/lib/python3.12/site-packages (from pandas>=1.4.0->geopandas==1.0.1) (2.9.0.post0)\n",
            "Requirement already satisfied: pytz>=2020.1 in /opt/anaconda3/envs/capstone/lib/python3.12/site-packages (from pandas>=1.4.0->geopandas==1.0.1) (2025.1)\n",
            "Requirement already satisfied: tzdata>=2022.7 in /opt/anaconda3/envs/capstone/lib/python3.12/site-packages (from pandas>=1.4.0->geopandas==1.0.1) (2025.1)\n",
            "Requirement already satisfied: certifi in /opt/anaconda3/envs/capstone/lib/python3.12/site-packages (from pyogrio>=0.7.2->geopandas==1.0.1) (2025.1.31)\n",
            "Requirement already satisfied: six>=1.5 in /opt/anaconda3/envs/capstone/lib/python3.12/site-packages (from python-dateutil>=2.8.2->pandas>=1.4.0->geopandas==1.0.1) (1.17.0)\n",
            "Requirement already satisfied: pandas==2.2.2 in /opt/anaconda3/envs/capstone/lib/python3.12/site-packages (2.2.2)\n",
            "Requirement already satisfied: numpy>=1.26.0 in /opt/anaconda3/envs/capstone/lib/python3.12/site-packages (from pandas==2.2.2) (1.26.4)\n",
            "Requirement already satisfied: python-dateutil>=2.8.2 in /opt/anaconda3/envs/capstone/lib/python3.12/site-packages (from pandas==2.2.2) (2.9.0.post0)\n",
            "Requirement already satisfied: pytz>=2020.1 in /opt/anaconda3/envs/capstone/lib/python3.12/site-packages (from pandas==2.2.2) (2025.1)\n",
            "Requirement already satisfied: tzdata>=2022.7 in /opt/anaconda3/envs/capstone/lib/python3.12/site-packages (from pandas==2.2.2) (2025.1)\n",
            "Requirement already satisfied: six>=1.5 in /opt/anaconda3/envs/capstone/lib/python3.12/site-packages (from python-dateutil>=2.8.2->pandas==2.2.2) (1.17.0)\n",
            "Requirement already satisfied: requests in /opt/anaconda3/envs/capstone/lib/python3.12/site-packages (2.32.3)\n",
            "Requirement already satisfied: charset-normalizer<4,>=2 in /opt/anaconda3/envs/capstone/lib/python3.12/site-packages (from requests) (3.4.1)\n",
            "Requirement already satisfied: idna<4,>=2.5 in /opt/anaconda3/envs/capstone/lib/python3.12/site-packages (from requests) (3.10)\n",
            "Requirement already satisfied: urllib3<3,>=1.21.1 in /opt/anaconda3/envs/capstone/lib/python3.12/site-packages (from requests) (1.26.20)\n",
            "Requirement already satisfied: certifi>=2017.4.17 in /opt/anaconda3/envs/capstone/lib/python3.12/site-packages (from requests) (2025.1.31)\n",
            "Requirement already satisfied: zipfile36 in /opt/anaconda3/envs/capstone/lib/python3.12/site-packages (0.1.3)\n",
            "Requirement already satisfied: Python-IO in /opt/anaconda3/envs/capstone/lib/python3.12/site-packages (0.3)\n",
            "Requirement already satisfied: customtkinter in /opt/anaconda3/envs/capstone/lib/python3.12/site-packages (from Python-IO) (5.2.2)\n",
            "Requirement already satisfied: requests in /opt/anaconda3/envs/capstone/lib/python3.12/site-packages (from Python-IO) (2.32.3)\n",
            "Requirement already satisfied: darkdetect in /opt/anaconda3/envs/capstone/lib/python3.12/site-packages (from customtkinter->Python-IO) (0.8.0)\n",
            "Requirement already satisfied: packaging in /opt/anaconda3/envs/capstone/lib/python3.12/site-packages (from customtkinter->Python-IO) (24.2)\n",
            "Requirement already satisfied: charset-normalizer<4,>=2 in /opt/anaconda3/envs/capstone/lib/python3.12/site-packages (from requests->Python-IO) (3.4.1)\n",
            "Requirement already satisfied: idna<4,>=2.5 in /opt/anaconda3/envs/capstone/lib/python3.12/site-packages (from requests->Python-IO) (3.10)\n",
            "Requirement already satisfied: urllib3<3,>=1.21.1 in /opt/anaconda3/envs/capstone/lib/python3.12/site-packages (from requests->Python-IO) (1.26.20)\n",
            "Requirement already satisfied: certifi>=2017.4.17 in /opt/anaconda3/envs/capstone/lib/python3.12/site-packages (from requests->Python-IO) (2025.1.31)\n",
            "Requirement already satisfied: datetime in /opt/anaconda3/envs/capstone/lib/python3.12/site-packages (5.5)\n",
            "Requirement already satisfied: zope.interface in /opt/anaconda3/envs/capstone/lib/python3.12/site-packages (from datetime) (7.2)\n",
            "Requirement already satisfied: pytz in /opt/anaconda3/envs/capstone/lib/python3.12/site-packages (from datetime) (2025.1)\n",
            "Requirement already satisfied: setuptools in /opt/anaconda3/envs/capstone/lib/python3.12/site-packages (from zope.interface->datetime) (75.8.0)\n",
            "Requirement already satisfied: glob2 in /opt/anaconda3/envs/capstone/lib/python3.12/site-packages (0.7)\n",
            "Requirement already satisfied: bs4 in /opt/anaconda3/envs/capstone/lib/python3.12/site-packages (0.0.2)\n",
            "Requirement already satisfied: beautifulsoup4 in /opt/anaconda3/envs/capstone/lib/python3.12/site-packages (from bs4) (4.13.3)\n",
            "Requirement already satisfied: soupsieve>1.2 in /opt/anaconda3/envs/capstone/lib/python3.12/site-packages (from beautifulsoup4->bs4) (2.6)\n",
            "Requirement already satisfied: typing-extensions>=4.0.0 in /opt/anaconda3/envs/capstone/lib/python3.12/site-packages (from beautifulsoup4->bs4) (4.12.2)\n",
            "Requirement already satisfied: numpy in /opt/anaconda3/envs/capstone/lib/python3.12/site-packages (1.26.4)\n",
            "Environment is set up successfully.\n"
          ]
        }
      ],
      "source": [
        "# Install Required Packages\n",
        "import environment_setting as es # Replace my_module with the actual name of your module\n",
        "\n",
        "es.setting_env(parent_dir)"
      ]
    },
    {
      "cell_type": "code",
      "execution_count": 19,
      "metadata": {
        "colab": {
          "base_uri": "https://localhost:8080/",
          "height": 89
        },
        "id": "9sFkdFznlkPi",
        "outputId": "a25c6f82-d11e-44c7-93d0-57df695dc4dd"
      },
      "outputs": [
        {
          "name": "stdout",
          "output_type": "stream",
          "text": [
            "nc73821036: ShakeMap already downloaded.\n"
          ]
        },
        {
          "data": {
            "text/plain": [
              "'/Users/yusufpradana/Library/CloudStorage/OneDrive-Personal/Gradschool/4_SPRING25/Capstone/github/EarthquakeDamageModel_Heinz/ShakeMaps/nc73821036'"
            ]
          },
          "execution_count": 19,
          "metadata": {},
          "output_type": "execute_result"
        }
      ],
      "source": [
        "# Running o1\n",
        "import o1_getshakemap as getshakemap\n",
        "\n",
        "feed_url = getshakemap.FEEDURL.format(EVENTID)\n",
        "jdict = getshakemap.fetch_earthquake_data(feed_url=feed_url)\n",
        "\n",
        "event = getshakemap.retrieve_event_data(jdict)\n",
        "getshakemap.download_and_extract_shakemap(event)"
      ]
    },
    {
      "cell_type": "code",
      "execution_count": 20,
      "metadata": {
        "colab": {
          "base_uri": "https://localhost:8080/",
          "height": 472
        },
        "id": "F8g3Z929wyaI",
        "outputId": "dbf63e63-06bc-425d-aaf6-2283b3a84a72"
      },
      "outputs": [
        {
          "name": "stdout",
          "output_type": "stream",
          "text": [
            "mi: /Users/yusufpradana/Library/CloudStorage/OneDrive-Personal/Gradschool/4_SPRING25/Capstone/github/EarthquakeDamageModel_Heinz/ShakeMaps/nc73821036/mi.shp\n",
            "pgv: /Users/yusufpradana/Library/CloudStorage/OneDrive-Personal/Gradschool/4_SPRING25/Capstone/github/EarthquakeDamageModel_Heinz/ShakeMaps/nc73821036/pgv.shp\n",
            "pga: /Users/yusufpradana/Library/CloudStorage/OneDrive-Personal/Gradschool/4_SPRING25/Capstone/github/EarthquakeDamageModel_Heinz/ShakeMaps/nc73821036/pga.shp\n",
            "Census tracts shapefile already exists /Users/yusufpradana/Library/CloudStorage/OneDrive-Personal/Gradschool/4_SPRING25/Capstone/github/EarthquakeDamageModel_Heinz/Data/merged_shapefile/Nationwide_Tracts.gpkg\n",
            "---GeoPackage already exists: /Users/yusufpradana/Library/CloudStorage/OneDrive-Personal/Gradschool/4_SPRING25/Capstone/github/EarthquakeDamageModel_Heinz/ShakeMaps/nc73821036/eqmodel_outputs.gpkg\n",
            "Saved shakemap_tractclip_mmi (clipped ShakeMap to tracts) to /Users/yusufpradana/Library/CloudStorage/OneDrive-Personal/Gradschool/4_SPRING25/Capstone/github/EarthquakeDamageModel_Heinz/ShakeMaps/nc73821036/eqmodel_outputs.gpkg\n",
            "Saved shakemap_tractclip_pgv (clipped ShakeMap to tracts) to /Users/yusufpradana/Library/CloudStorage/OneDrive-Personal/Gradschool/4_SPRING25/Capstone/github/EarthquakeDamageModel_Heinz/ShakeMaps/nc73821036/eqmodel_outputs.gpkg\n",
            "Saved shakemap_tractclip_pga (clipped ShakeMap to tracts) to /Users/yusufpradana/Library/CloudStorage/OneDrive-Personal/Gradschool/4_SPRING25/Capstone/github/EarthquakeDamageModel_Heinz/ShakeMaps/nc73821036/eqmodel_outputs.gpkg\n",
            "Saved tract_shakemap_mmi (tract-level ShakeMap statistics) to /Users/yusufpradana/Library/CloudStorage/OneDrive-Personal/Gradschool/4_SPRING25/Capstone/github/EarthquakeDamageModel_Heinz/ShakeMaps/nc73821036/eqmodel_outputs.gpkg\n",
            "Saved tract_shakemap_pgv (tract-level ShakeMap statistics) to /Users/yusufpradana/Library/CloudStorage/OneDrive-Personal/Gradschool/4_SPRING25/Capstone/github/EarthquakeDamageModel_Heinz/ShakeMaps/nc73821036/eqmodel_outputs.gpkg\n",
            "Saved tract_shakemap_pga (tract-level ShakeMap statistics) to /Users/yusufpradana/Library/CloudStorage/OneDrive-Personal/Gradschool/4_SPRING25/Capstone/github/EarthquakeDamageModel_Heinz/ShakeMaps/nc73821036/eqmodel_outputs.gpkg\n"
          ]
        }
      ],
      "source": [
        "# Running o2 census intersect\n",
        "import o2_census_intersect as census\n",
        "\n",
        "event_dir = os.path.join(parent_dir, 'ShakeMaps', EVENTID)\n",
        "\n",
        "census.shakemap_into_census_geo(event_dir, parent_dir)\n",
        "\n",
        "# Update with the actual path\n",
        "GPKG_PATH = os.path.join(event_dir, \"eqmodel_outputs.gpkg\")\n"
      ]
    },
    {
      "cell_type": "markdown",
      "metadata": {
        "id": "i5s4Aq_svewT"
      },
      "source": [
        "# RUN"
      ]
    },
    {
      "cell_type": "code",
      "execution_count": 5,
      "metadata": {
        "colab": {
          "base_uri": "https://localhost:8080/"
        },
        "id": "OAf0sM1kvHIq",
        "outputId": "1c7066c0-6da8-4bd8-dd9f-bbc50d5e3ab6"
      },
      "outputs": [
        {
          "name": "stdout",
          "output_type": "stream",
          "text": [
            "1. Reading event data for event ID: nc73821036\n",
            "2. Reading building count data...\n",
            "3. Reading building stock data...\n",
            "Building stock data exists at /Users/yusufpradana/Library/CloudStorage/OneDrive-Personal/Gradschool/4_SPRING25/Capstone/github/EarthquakeDamageModel_Heinz/Data/building_stock_data/Building_Percentages_Per_Tract_ALLSTATES.csv\n",
            "4. Merging building count and building stock data...\n",
            "5. Merging event data with building data...\n",
            "Saving final output to CSV...\n"
          ]
        }
      ],
      "source": [
        "# Running o3 clip building\n",
        "import o3_clip_eventdata_buildingstocks as bs\n",
        "bs.building_clip_analysis(parent_dir, EVENTID)"
      ]
    },
    {
      "cell_type": "code",
      "execution_count": 6,
      "metadata": {
        "id": "cexotjknmOBM"
      },
      "outputs": [],
      "source": [
        "# Run o4\n",
        "import o4_TractLevel_DamageAssessmentModel as o4\n",
        "o4_output = o4.main(parent_dir, EVENTID)"
      ]
    },
    {
      "cell_type": "code",
      "execution_count": 7,
      "metadata": {
        "id": "jGf8BSw0tv1Y"
      },
      "outputs": [],
      "source": [
        "o4_output['GEOID'] = o4_output['GEOID'].astype(str)"
      ]
    },
    {
      "cell_type": "code",
      "execution_count": 8,
      "metadata": {},
      "outputs": [
        {
          "data": {
            "text/html": [
              "<div>\n",
              "<style scoped>\n",
              "    .dataframe tbody tr th:only-of-type {\n",
              "        vertical-align: middle;\n",
              "    }\n",
              "\n",
              "    .dataframe tbody tr th {\n",
              "        vertical-align: top;\n",
              "    }\n",
              "\n",
              "    .dataframe thead th {\n",
              "        text-align: right;\n",
              "    }\n",
              "</style>\n",
              "<table border=\"1\" class=\"dataframe\">\n",
              "  <thead>\n",
              "    <tr style=\"text-align: right;\">\n",
              "      <th></th>\n",
              "      <th>GEOID</th>\n",
              "      <th>max_intensity</th>\n",
              "      <th>min_intensity</th>\n",
              "      <th>mean_intensity</th>\n",
              "      <th>geometry</th>\n",
              "      <th>Total_Num_Building</th>\n",
              "      <th>Total_Num_Building_Slight</th>\n",
              "      <th>Total_Num_Building_Moderate</th>\n",
              "      <th>Total_Num_Building_Extensive</th>\n",
              "      <th>Total_Num_Building_Complete</th>\n",
              "    </tr>\n",
              "  </thead>\n",
              "  <tbody>\n",
              "    <tr>\n",
              "      <th>0</th>\n",
              "      <td>6001400100</td>\n",
              "      <td>0.01</td>\n",
              "      <td>0.01</td>\n",
              "      <td>0.01</td>\n",
              "      <td>MULTIPOLYGON (((-122.24692041680534 37.8854393...</td>\n",
              "      <td>1298.0</td>\n",
              "      <td>0.000384</td>\n",
              "      <td>1.397666e-10</td>\n",
              "      <td>4.064599e-18</td>\n",
              "      <td>4.480291e-27</td>\n",
              "    </tr>\n",
              "    <tr>\n",
              "      <th>1</th>\n",
              "      <td>6001400200</td>\n",
              "      <td>0.01</td>\n",
              "      <td>0.01</td>\n",
              "      <td>0.01</td>\n",
              "      <td>MULTIPOLYGON (((-122.25792355695359 37.8426073...</td>\n",
              "      <td>696.0</td>\n",
              "      <td>0.000311</td>\n",
              "      <td>3.601871e-10</td>\n",
              "      <td>4.727889e-17</td>\n",
              "      <td>7.762607e-26</td>\n",
              "    </tr>\n",
              "    <tr>\n",
              "      <th>2</th>\n",
              "      <td>6001400300</td>\n",
              "      <td>0.01</td>\n",
              "      <td>0.01</td>\n",
              "      <td>0.01</td>\n",
              "      <td>MULTIPOLYGON (((-122.26563158321628 37.8376373...</td>\n",
              "      <td>1629.0</td>\n",
              "      <td>0.000826</td>\n",
              "      <td>9.106309e-10</td>\n",
              "      <td>1.002471e-16</td>\n",
              "      <td>1.615245e-25</td>\n",
              "    </tr>\n",
              "    <tr>\n",
              "      <th>3</th>\n",
              "      <td>6001400400</td>\n",
              "      <td>0.01</td>\n",
              "      <td>0.01</td>\n",
              "      <td>0.01</td>\n",
              "      <td>MULTIPOLYGON (((-122.2618265652303 37.84162437...</td>\n",
              "      <td>1228.0</td>\n",
              "      <td>0.000577</td>\n",
              "      <td>7.440906e-10</td>\n",
              "      <td>9.536990e-17</td>\n",
              "      <td>1.561482e-25</td>\n",
              "    </tr>\n",
              "    <tr>\n",
              "      <th>4</th>\n",
              "      <td>6001400500</td>\n",
              "      <td>0.01</td>\n",
              "      <td>0.01</td>\n",
              "      <td>0.01</td>\n",
              "      <td>MULTIPOLYGON (((-122.26950755249248 37.8485833...</td>\n",
              "      <td>1018.0</td>\n",
              "      <td>0.000559</td>\n",
              "      <td>7.481115e-10</td>\n",
              "      <td>9.537085e-17</td>\n",
              "      <td>1.561482e-25</td>\n",
              "    </tr>\n",
              "  </tbody>\n",
              "</table>\n",
              "</div>"
            ],
            "text/plain": [
              "        GEOID  max_intensity  min_intensity  mean_intensity  \\\n",
              "0  6001400100           0.01           0.01            0.01   \n",
              "1  6001400200           0.01           0.01            0.01   \n",
              "2  6001400300           0.01           0.01            0.01   \n",
              "3  6001400400           0.01           0.01            0.01   \n",
              "4  6001400500           0.01           0.01            0.01   \n",
              "\n",
              "                                            geometry  Total_Num_Building  \\\n",
              "0  MULTIPOLYGON (((-122.24692041680534 37.8854393...              1298.0   \n",
              "1  MULTIPOLYGON (((-122.25792355695359 37.8426073...               696.0   \n",
              "2  MULTIPOLYGON (((-122.26563158321628 37.8376373...              1629.0   \n",
              "3  MULTIPOLYGON (((-122.2618265652303 37.84162437...              1228.0   \n",
              "4  MULTIPOLYGON (((-122.26950755249248 37.8485833...              1018.0   \n",
              "\n",
              "   Total_Num_Building_Slight  Total_Num_Building_Moderate  \\\n",
              "0                   0.000384                 1.397666e-10   \n",
              "1                   0.000311                 3.601871e-10   \n",
              "2                   0.000826                 9.106309e-10   \n",
              "3                   0.000577                 7.440906e-10   \n",
              "4                   0.000559                 7.481115e-10   \n",
              "\n",
              "   Total_Num_Building_Extensive  Total_Num_Building_Complete  \n",
              "0                  4.064599e-18                 4.480291e-27  \n",
              "1                  4.727889e-17                 7.762607e-26  \n",
              "2                  1.002471e-16                 1.615245e-25  \n",
              "3                  9.536990e-17                 1.561482e-25  \n",
              "4                  9.537085e-17                 1.561482e-25  "
            ]
          },
          "execution_count": 8,
          "metadata": {},
          "output_type": "execute_result"
        }
      ],
      "source": [
        "o4_output.head()"
      ]
    },
    {
      "cell_type": "code",
      "execution_count": 9,
      "metadata": {},
      "outputs": [
        {
          "name": "stdout",
          "output_type": "stream",
          "text": [
            "        GEO_ID                                           NAME P1_001N\n",
            "0  06001400100  Census Tract 4001, Alameda County, California    3038\n",
            "1  06001400200  Census Tract 4002, Alameda County, California    2001\n",
            "2  06001400300  Census Tract 4003, Alameda County, California    5504\n",
            "3  06001400400  Census Tract 4004, Alameda County, California    4112\n",
            "4  06001400500  Census Tract 4005, Alameda County, California    3644\n",
            "        GEOID  max_intensity  min_intensity  mean_intensity  \\\n",
            "0  6001400100           0.01           0.01            0.01   \n",
            "1  6001400200           0.01           0.01            0.01   \n",
            "2  6001400300           0.01           0.01            0.01   \n",
            "3  6001400400           0.01           0.01            0.01   \n",
            "4  6001400500           0.01           0.01            0.01   \n",
            "\n",
            "                                            geometry  Total_Num_Building  \\\n",
            "0  MULTIPOLYGON (((-122.24692041680534 37.8854393...              1298.0   \n",
            "1  MULTIPOLYGON (((-122.25792355695359 37.8426073...               696.0   \n",
            "2  MULTIPOLYGON (((-122.26563158321628 37.8376373...              1629.0   \n",
            "3  MULTIPOLYGON (((-122.2618265652303 37.84162437...              1228.0   \n",
            "4  MULTIPOLYGON (((-122.26950755249248 37.8485833...              1018.0   \n",
            "\n",
            "   Total_Num_Building_Slight  Total_Num_Building_Moderate  \\\n",
            "0                   0.000384                 1.397666e-10   \n",
            "1                   0.000311                 3.601871e-10   \n",
            "2                   0.000826                 9.106309e-10   \n",
            "3                   0.000577                 7.440906e-10   \n",
            "4                   0.000559                 7.481115e-10   \n",
            "\n",
            "   Total_Num_Building_Extensive  Total_Num_Building_Complete  \n",
            "0                  4.064599e-18                 4.480291e-27  \n",
            "1                  4.727889e-17                 7.762607e-26  \n",
            "2                  1.002471e-16                 1.615245e-25  \n",
            "3                  9.536990e-17                 1.561482e-25  \n",
            "4                  9.537085e-17                 1.561482e-25  \n",
            "df2:           GEOID  max_intensity  Total_Num_Building  Total_Num_Building_Slight  \\\n",
            "0  06023011100           0.64              2398.0                 338.441448   \n",
            "1  06023010902           0.60              3367.0                  34.294926   \n",
            "2  06023011000           0.54              2042.0                 831.352281   \n",
            "3  06023010901           0.54              1595.0                 708.161989   \n",
            "4  06023010800           0.54              2529.0                 822.325654   \n",
            "\n",
            "   Total_Num_Building_Moderate  Total_Num_Building_Extensive  \\\n",
            "0                    32.818383                      2.218915   \n",
            "1                     0.275334                      0.000189   \n",
            "2                   674.346964                    183.374078   \n",
            "3                   479.789037                    100.200062   \n",
            "4                   122.028606                     20.651857   \n",
            "\n",
            "   Total_Num_Building_Complete risk_level       num_FU  perc_FU_NH_low  \\\n",
            "0                 1.398090e-02        low   367.481602            0.05   \n",
            "1                 2.222358e-09        low    34.534509            0.05   \n",
            "2                 8.425120e+01        low  1458.376437            0.05   \n",
            "3                 3.577549e+01        low  1147.622466            0.05   \n",
            "4                 1.016026e+00        low   933.033950            0.05   \n",
            "\n",
            "   perc_FU_NH_high      num_PU  perc_PU_NH_low  perc_PU_NH_high      num_NU  \\\n",
            "0                0    4.821398            0.05              0.1    1.189726   \n",
            "1                0    0.035841            0.05              0.1    0.000100   \n",
            "2                0  135.193649            0.05              0.1  179.754434   \n",
            "3                0   88.138100            0.05              0.1   88.166012   \n",
            "4                0   21.047004            0.05              0.1   11.941190   \n",
            "\n",
            "   BHI_factor_low  BHI_factor_high  \n",
            "0        0.008259         0.000697  \n",
            "1        0.000513         0.000001  \n",
            "2        0.127048         0.094649  \n",
            "3        0.094015         0.060802  \n",
            "4        0.023585         0.005554  \n"
          ]
        },
        {
          "data": {
            "text/html": [
              "<div>\n",
              "<style scoped>\n",
              "    .dataframe tbody tr th:only-of-type {\n",
              "        vertical-align: middle;\n",
              "    }\n",
              "\n",
              "    .dataframe tbody tr th {\n",
              "        vertical-align: top;\n",
              "    }\n",
              "\n",
              "    .dataframe thead th {\n",
              "        text-align: right;\n",
              "    }\n",
              "</style>\n",
              "<table border=\"1\" class=\"dataframe\">\n",
              "  <thead>\n",
              "    <tr style=\"text-align: right;\">\n",
              "      <th></th>\n",
              "      <th>GEOID</th>\n",
              "      <th>max_intensity</th>\n",
              "      <th>Total_Num_Building</th>\n",
              "      <th>Total_Num_Building_Slight</th>\n",
              "      <th>Total_Num_Building_Moderate</th>\n",
              "      <th>Total_Num_Building_Extensive</th>\n",
              "      <th>Total_Num_Building_Complete</th>\n",
              "      <th>risk_level</th>\n",
              "      <th>num_FU</th>\n",
              "      <th>perc_FU_NH_low</th>\n",
              "      <th>perc_FU_NH_high</th>\n",
              "      <th>num_PU</th>\n",
              "      <th>perc_PU_NH_low</th>\n",
              "      <th>perc_PU_NH_high</th>\n",
              "      <th>num_NU</th>\n",
              "      <th>BHI_factor_low</th>\n",
              "      <th>BHI_factor_high</th>\n",
              "      <th>population</th>\n",
              "      <th>denominator</th>\n",
              "    </tr>\n",
              "  </thead>\n",
              "  <tbody>\n",
              "    <tr>\n",
              "      <th>0</th>\n",
              "      <td>06023011100</td>\n",
              "      <td>0.64</td>\n",
              "      <td>2398.0</td>\n",
              "      <td>338.441448</td>\n",
              "      <td>32.818383</td>\n",
              "      <td>2.218915</td>\n",
              "      <td>1.398090e-02</td>\n",
              "      <td>low</td>\n",
              "      <td>367.481602</td>\n",
              "      <td>0.05</td>\n",
              "      <td>0</td>\n",
              "      <td>4.821398</td>\n",
              "      <td>0.05</td>\n",
              "      <td>0.1</td>\n",
              "      <td>1.189726</td>\n",
              "      <td>0.008259</td>\n",
              "      <td>0.000697</td>\n",
              "      <td>4724</td>\n",
              "      <td>2398.0</td>\n",
              "    </tr>\n",
              "    <tr>\n",
              "      <th>1</th>\n",
              "      <td>06023010902</td>\n",
              "      <td>0.60</td>\n",
              "      <td>3367.0</td>\n",
              "      <td>34.294926</td>\n",
              "      <td>0.275334</td>\n",
              "      <td>0.000189</td>\n",
              "      <td>2.222358e-09</td>\n",
              "      <td>low</td>\n",
              "      <td>34.534509</td>\n",
              "      <td>0.05</td>\n",
              "      <td>0</td>\n",
              "      <td>0.035841</td>\n",
              "      <td>0.05</td>\n",
              "      <td>0.1</td>\n",
              "      <td>0.000100</td>\n",
              "      <td>0.000513</td>\n",
              "      <td>0.000001</td>\n",
              "      <td>4074</td>\n",
              "      <td>3367.0</td>\n",
              "    </tr>\n",
              "    <tr>\n",
              "      <th>2</th>\n",
              "      <td>06023011000</td>\n",
              "      <td>0.54</td>\n",
              "      <td>2042.0</td>\n",
              "      <td>831.352281</td>\n",
              "      <td>674.346964</td>\n",
              "      <td>183.374078</td>\n",
              "      <td>8.425120e+01</td>\n",
              "      <td>low</td>\n",
              "      <td>1458.376437</td>\n",
              "      <td>0.05</td>\n",
              "      <td>0</td>\n",
              "      <td>135.193649</td>\n",
              "      <td>0.05</td>\n",
              "      <td>0.1</td>\n",
              "      <td>179.754434</td>\n",
              "      <td>0.127048</td>\n",
              "      <td>0.094649</td>\n",
              "      <td>4625</td>\n",
              "      <td>2042.0</td>\n",
              "    </tr>\n",
              "    <tr>\n",
              "      <th>3</th>\n",
              "      <td>06023010901</td>\n",
              "      <td>0.54</td>\n",
              "      <td>1595.0</td>\n",
              "      <td>708.161989</td>\n",
              "      <td>479.789037</td>\n",
              "      <td>100.200062</td>\n",
              "      <td>3.577549e+01</td>\n",
              "      <td>low</td>\n",
              "      <td>1147.622466</td>\n",
              "      <td>0.05</td>\n",
              "      <td>0</td>\n",
              "      <td>88.138100</td>\n",
              "      <td>0.05</td>\n",
              "      <td>0.1</td>\n",
              "      <td>88.166012</td>\n",
              "      <td>0.094015</td>\n",
              "      <td>0.060802</td>\n",
              "      <td>4725</td>\n",
              "      <td>1595.0</td>\n",
              "    </tr>\n",
              "    <tr>\n",
              "      <th>4</th>\n",
              "      <td>06023010800</td>\n",
              "      <td>0.54</td>\n",
              "      <td>2529.0</td>\n",
              "      <td>822.325654</td>\n",
              "      <td>122.028606</td>\n",
              "      <td>20.651857</td>\n",
              "      <td>1.016026e+00</td>\n",
              "      <td>low</td>\n",
              "      <td>933.033950</td>\n",
              "      <td>0.05</td>\n",
              "      <td>0</td>\n",
              "      <td>21.047004</td>\n",
              "      <td>0.05</td>\n",
              "      <td>0.1</td>\n",
              "      <td>11.941190</td>\n",
              "      <td>0.023585</td>\n",
              "      <td>0.005554</td>\n",
              "      <td>4910</td>\n",
              "      <td>2529.0</td>\n",
              "    </tr>\n",
              "  </tbody>\n",
              "</table>\n",
              "</div>"
            ],
            "text/plain": [
              "         GEOID  max_intensity  Total_Num_Building  Total_Num_Building_Slight  \\\n",
              "0  06023011100           0.64              2398.0                 338.441448   \n",
              "1  06023010902           0.60              3367.0                  34.294926   \n",
              "2  06023011000           0.54              2042.0                 831.352281   \n",
              "3  06023010901           0.54              1595.0                 708.161989   \n",
              "4  06023010800           0.54              2529.0                 822.325654   \n",
              "\n",
              "   Total_Num_Building_Moderate  Total_Num_Building_Extensive  \\\n",
              "0                    32.818383                      2.218915   \n",
              "1                     0.275334                      0.000189   \n",
              "2                   674.346964                    183.374078   \n",
              "3                   479.789037                    100.200062   \n",
              "4                   122.028606                     20.651857   \n",
              "\n",
              "   Total_Num_Building_Complete risk_level       num_FU  perc_FU_NH_low  \\\n",
              "0                 1.398090e-02        low   367.481602            0.05   \n",
              "1                 2.222358e-09        low    34.534509            0.05   \n",
              "2                 8.425120e+01        low  1458.376437            0.05   \n",
              "3                 3.577549e+01        low  1147.622466            0.05   \n",
              "4                 1.016026e+00        low   933.033950            0.05   \n",
              "\n",
              "   perc_FU_NH_high      num_PU  perc_PU_NH_low  perc_PU_NH_high      num_NU  \\\n",
              "0                0    4.821398            0.05              0.1    1.189726   \n",
              "1                0    0.035841            0.05              0.1    0.000100   \n",
              "2                0  135.193649            0.05              0.1  179.754434   \n",
              "3                0   88.138100            0.05              0.1   88.166012   \n",
              "4                0   21.047004            0.05              0.1   11.941190   \n",
              "\n",
              "   BHI_factor_low  BHI_factor_high population  denominator  \n",
              "0        0.008259         0.000697       4724       2398.0  \n",
              "1        0.000513         0.000001       4074       3367.0  \n",
              "2        0.127048         0.094649       4625       2042.0  \n",
              "3        0.094015         0.060802       4725       1595.0  \n",
              "4        0.023585         0.005554       4910       2529.0  "
            ]
          },
          "execution_count": 9,
          "metadata": {},
          "output_type": "execute_result"
        }
      ],
      "source": [
        "import o5_bhi\n",
        "import os\n",
        "parent_dir = os.path.dirname(os.getcwd())\n",
        "df = o5_bhi.process_bhi(parent_dir, o4_output)\n",
        "df.head()"
      ]
    },
    {
      "cell_type": "code",
      "execution_count": 17,
      "metadata": {
        "colab": {
          "base_uri": "https://localhost:8080/",
          "height": 329
        },
        "id": "ATDhOyOSzsAJ",
        "outputId": "f4cfc32f-2e91-47ac-bf91-6825e1420857"
      },
      "outputs": [
        {
          "name": "stdout",
          "output_type": "stream",
          "text": [
            "453     7.291882e+01\n",
            "431     5.774848e+01\n",
            "451     5.738112e+01\n",
            "435     5.644869e+01\n",
            "434     5.620286e+01\n",
            "            ...     \n",
            "422     1.862354e-06\n",
            "423     1.862354e-06\n",
            "1027    1.222099e-06\n",
            "102     3.326792e-07\n",
            "382     2.674510e-08\n",
            "Length: 1513, dtype: float64\n",
            "453    6.759682e+00\n",
            "451    4.406905e+00\n",
            "432    1.376617e+00\n",
            "431    1.260724e+00\n",
            "435    1.166891e+00\n",
            "           ...     \n",
            "934    2.142948e-16\n",
            "935    2.142948e-16\n",
            "423    4.708399e-17\n",
            "422    4.708399e-17\n",
            "382    6.630280e-19\n",
            "Length: 1513, dtype: float64\n",
            "453    1.797544e+02\n",
            "451    8.816601e+01\n",
            "432    2.122940e+01\n",
            "450    1.194119e+01\n",
            "431    9.200845e+00\n",
            "           ...     \n",
            "934    4.937749e-28\n",
            "933    4.937749e-28\n",
            "423    1.312965e-28\n",
            "422    1.312965e-28\n",
            "382    9.247804e-31\n",
            "Name: num_NU, Length: 1513, dtype: float64\n",
            "453     2.594329e+02\n",
            "451     1.499540e+02\n",
            "431     6.821005e+01\n",
            "435     6.436663e+01\n",
            "434     6.229637e+01\n",
            "            ...     \n",
            "422     1.862354e-06\n",
            "423     1.862354e-06\n",
            "1027    1.222099e-06\n",
            "102     3.326792e-07\n",
            "382     2.674510e-08\n",
            "Length: 1513, dtype: float64\n",
            "453     1.270485e-01\n",
            "451     9.401507e-02\n",
            "432     3.997342e-02\n",
            "449     2.940813e-02\n",
            "431     2.929985e-02\n",
            "            ...     \n",
            "933     8.856723e-09\n",
            "1008    8.852908e-09\n",
            "423     8.784690e-09\n",
            "422     8.784690e-09\n",
            "382     6.686276e-09\n",
            "Name: BHI_factor_low, Length: 1513, dtype: float64\n",
            "saved\n"
          ]
        },
        {
          "name": "stderr",
          "output_type": "stream",
          "text": [
            "/Users/yusufpradana/Library/CloudStorage/OneDrive-Personal/Gradschool/4_SPRING25/Capstone/github/EarthquakeDamageModel_Heinz/WorkingScripts/o5_bhi.py:65: DtypeWarning: Columns (2,3,4,5,6,7,8,9,10,11,12,13,14,15,16,17,18,19,20,21,22,23,24,25,26,27,28,29,30,31,32,33,34,35,36,37,38,39,40,41,42,43,44,45,46,47,48,49,50,51,52,53,54,55,56,57,58,59,60,61,62,63,64,65,66,67,68,69,70,71,72) have mixed types. Specify dtype option on import or set low_memory=False.\n",
            "  pop_data = pd.read_csv(census_path)\n"
          ]
        }
      ],
      "source": [
        "import o5_bhi\n",
        "\n",
        "df = o5_bhi.process_bhi(parent_dir, o4_output)\n",
        "df[\"population\"] = df[\"population\"].astype(int)\n",
        "df[\"shelter_seeking_low\"] = df[\"BHI_factor_low\"]*df[\"population\"]\n",
        "df[\"shelter_seeking_high\"] = df[\"BHI_factor_high\"]*df[\"population\"]\n",
        "cols = [\"GEOID\", \"max_intensity\", \"population\", \"Total_Num_Building\", \"risk_level\",\n",
        "        \"BHI_factor_low\", #\"BHI_factor_high\",\n",
        "        \"shelter_seeking_low\", #\"shelter_seeking_high\",\n",
        "        \"Total_Num_Building_Slight\", \"Total_Num_Building_Moderate\", \n",
        "            \"Total_Num_Building_Extensive\", \"Total_Num_Building_Complete\"]\n",
        "\n",
        "# df[\"numerator_low\"] = round(df[\"num_FU\"]*df[\"perc_FU_NH_low\"] + df[\"num_PU\"]*df[\"perc_PU_NH_low\"] + df[\"num_NU\"],2)\n",
        "# df[\"numerator_high\"] = round(df[\"num_FU\"]*df[\"perc_FU_NH_high\"] + df[\"num_PU\"]*df[\"perc_PU_NH_high\"] + df[\"num_NU\"],2)\n",
        "\n",
        "df = df[cols]\n",
        "\n",
        "df[\"BHI_factor_low\"] = df[\"BHI_factor_low\"].apply(lambda x: round(x,4))\n",
        "# df[\"BHI_factor_high\"] = df[\"BHI_factor_high\"].apply(lambda x: round(x,4))\n",
        "df[\"shelter_seeking_low\"] = df[\"shelter_seeking_low\"].apply(lambda x: round(x,4))\n",
        "# df[\"shelter_seeking_high\"] = df[\"shelter_seeking_high\"].apply(lambda x: round(x,4))\n",
        "# print(df.sort_values(by=[\"shelter_seeking_low\"], ascending=False).head(50))\n",
        "\n",
        "# BHI (census) = BHI_factor * census tract population --> number of people in census tract with non-habitable housing\n",
        "\n",
        "df.to_csv(os.path.join(parent_dir, \"Data/bhi_output_new.csv\"), index=False)\n",
        "print(\"saved\")"
      ]
    }
  ],
  "metadata": {
    "colab": {
      "collapsed_sections": [
        "F6cPdNtv0yqz",
        "X0newIcWrdcC",
        "i5s4Aq_svewT"
      ],
      "provenance": []
    },
    "kernelspec": {
      "display_name": "Python 3",
      "name": "python3"
    },
    "language_info": {
      "name": "python"
    }
  },
  "nbformat": 4,
  "nbformat_minor": 0
}
