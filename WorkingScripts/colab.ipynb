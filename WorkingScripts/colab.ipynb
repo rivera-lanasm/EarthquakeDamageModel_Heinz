{
 "cells": [
  {
   "cell_type": "code",
   "execution_count": null,
   "metadata": {},
   "outputs": [],
   "source": [
    "# Mount the Google Drive\n",
    "from google.colab import drive\n",
    "drive.mount('/content/drive')"
   ]
  },
  {
   "cell_type": "code",
   "execution_count": null,
   "metadata": {},
   "outputs": [],
   "source": [
    "# Setting System to Import Packages\n",
    "import sys\n",
    "sys.path.append('/content/drive/MyDrive/Earthquake/WorkingScripts')"
   ]
  },
  {
   "cell_type": "code",
   "execution_count": null,
   "metadata": {},
   "outputs": [],
   "source": [
    "# Install Required Packages\n",
    "import environment_setting as es # Replace my_module with the actual name of your module\n",
    "parent_dir = '/content/drive/MyDrive/Earthquake/'\n",
    "es.setting_env(parent_dir)"
   ]
  },
  {
   "cell_type": "code",
   "execution_count": null,
   "metadata": {},
   "outputs": [],
   "source": [
    "# Running o1\n",
    "import o1_getshakemap as getshakemap\n",
    "EVENTID = \"nc72282711\"  # Example event ID\n",
    "feed_url = getshakemap.FEEDURL.format(EVENTID)\n",
    "jdict = getshakemap.fetch_earthquake_data(feed_url=feed_url)\n",
    "\n",
    "event = getshakemap.retrieve_event_data(jdict)\n",
    "getshakemap.download_and_extract_shakemap(event)"
   ]
  }
 ],
 "metadata": {
  "language_info": {
   "name": "python"
  }
 },
 "nbformat": 4,
 "nbformat_minor": 2
}
