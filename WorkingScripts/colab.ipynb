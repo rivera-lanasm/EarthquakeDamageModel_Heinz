{
  "cells": [
    {
      "cell_type": "markdown",
      "metadata": {
        "id": "Qu7IngZY1N8U"
      },
      "source": [
        "# USER INPUT"
      ]
    },
    {
      "cell_type": "markdown",
      "metadata": {
        "id": "VGD-hFr41T9f"
      },
      "source": [
        "**Paste the Excel Line in the Cell Below!**"
      ]
    },
    {
      "cell_type": "code",
      "execution_count": 34,
      "metadata": {
        "id": "CHBepfhv1TXe"
      },
      "outputs": [],
      "source": [
        "params = {\n",
        "\"event_id\": \"nc72282711\",\n",
        "\"geography\": \"tract\",\n",
        "\"intensity_metric\": \"min\",\n",
        "\"utility_loss_rate\": 0.20\n",
        "}"
      ]
    },
    {
      "cell_type": "markdown",
      "metadata": {
        "id": "F6cPdNtv0yqz"
      },
      "source": [
        "# CODE BASE\n",
        "\n",
        "\n"
      ]
    },
    {
      "cell_type": "code",
      "execution_count": 35,
      "metadata": {
        "id": "8JxApUDAk3oO"
      },
      "outputs": [],
      "source": [
        "EVENTID = params[\"event_id\"]"
      ]
    },
    {
      "cell_type": "code",
      "execution_count": 36,
      "metadata": {
        "id": "yUe7-WU0xNi6"
      },
      "outputs": [],
      "source": [
        "import os\n",
        "import pandas as pd\n",
        "import numpy as np\n"
      ]
    },
    {
      "cell_type": "code",
      "execution_count": 37,
      "metadata": {
        "colab": {
          "base_uri": "https://localhost:8080/"
        },
        "id": "3Ird1YwNlkPg",
        "outputId": "7c1a227c-d5c6-40e5-d133-f8185aea3ab6"
      },
      "outputs": [
        {
          "data": {
            "text/plain": [
              "\"# Mount the Google Drive\\nfrom google.colab import drive\\ndrive.mount('/content/drive')\""
            ]
          },
          "execution_count": 37,
          "metadata": {},
          "output_type": "execute_result"
        }
      ],
      "source": [
        "'''# Mount the Google Drive\n",
        "from google.colab import drive\n",
        "drive.mount('/content/drive')'''"
      ]
    },
    {
      "cell_type": "code",
      "execution_count": 38,
      "metadata": {
        "id": "PoLndM6ClkPi"
      },
      "outputs": [
        {
          "data": {
            "text/plain": [
              "\"# Setting System to Import Packages\\nimport sys\\nsys.path.append('/content/drive/MyDrive/capstone/WorkingScripts')\\nparent_dir = '/content/drive/MyDrive/capstone/\""
            ]
          },
          "execution_count": 38,
          "metadata": {},
          "output_type": "execute_result"
        }
      ],
      "source": [
        "'''# Setting System to Import Packages\n",
        "import sys\n",
        "sys.path.append('/content/drive/MyDrive/capstone/WorkingScripts')\n",
        "parent_dir = '/content/drive/MyDrive/capstone/'''"
      ]
    },
    {
      "cell_type": "code",
      "execution_count": 39,
      "metadata": {},
      "outputs": [],
      "source": [
        "parent_dir = os.path.dirname(os.getcwd())"
      ]
    },
    {
      "cell_type": "markdown",
      "metadata": {
        "id": "X0newIcWrdcC"
      },
      "source": [
        "# SKIP\n"
      ]
    },
    {
      "cell_type": "code",
      "execution_count": 40,
      "metadata": {
        "colab": {
          "base_uri": "https://localhost:8080/"
        },
        "id": "sGWxk4rdlkPi",
        "outputId": "b973480b-c13d-4be4-806c-6d6481168d45"
      },
      "outputs": [
        {
          "name": "stdout",
          "output_type": "stream",
          "text": [
            "Requirement already satisfied: geopandas==1.0.1 in /opt/anaconda3/envs/capstone/lib/python3.12/site-packages (1.0.1)\n",
            "Requirement already satisfied: numpy>=1.22 in /opt/anaconda3/envs/capstone/lib/python3.12/site-packages (from geopandas==1.0.1) (1.26.4)\n",
            "Requirement already satisfied: pyogrio>=0.7.2 in /opt/anaconda3/envs/capstone/lib/python3.12/site-packages (from geopandas==1.0.1) (0.10.0)\n",
            "Requirement already satisfied: packaging in /opt/anaconda3/envs/capstone/lib/python3.12/site-packages (from geopandas==1.0.1) (24.2)\n",
            "Requirement already satisfied: pandas>=1.4.0 in /opt/anaconda3/envs/capstone/lib/python3.12/site-packages (from geopandas==1.0.1) (2.2.2)\n",
            "Requirement already satisfied: pyproj>=3.3.0 in /opt/anaconda3/envs/capstone/lib/python3.12/site-packages (from geopandas==1.0.1) (3.7.0)\n",
            "Requirement already satisfied: shapely>=2.0.0 in /opt/anaconda3/envs/capstone/lib/python3.12/site-packages (from geopandas==1.0.1) (2.0.7)\n",
            "Requirement already satisfied: python-dateutil>=2.8.2 in /opt/anaconda3/envs/capstone/lib/python3.12/site-packages (from pandas>=1.4.0->geopandas==1.0.1) (2.9.0.post0)\n",
            "Requirement already satisfied: pytz>=2020.1 in /opt/anaconda3/envs/capstone/lib/python3.12/site-packages (from pandas>=1.4.0->geopandas==1.0.1) (2025.1)\n",
            "Requirement already satisfied: tzdata>=2022.7 in /opt/anaconda3/envs/capstone/lib/python3.12/site-packages (from pandas>=1.4.0->geopandas==1.0.1) (2025.1)\n",
            "Requirement already satisfied: certifi in /opt/anaconda3/envs/capstone/lib/python3.12/site-packages (from pyogrio>=0.7.2->geopandas==1.0.1) (2025.1.31)\n",
            "Requirement already satisfied: six>=1.5 in /opt/anaconda3/envs/capstone/lib/python3.12/site-packages (from python-dateutil>=2.8.2->pandas>=1.4.0->geopandas==1.0.1) (1.17.0)\n",
            "Requirement already satisfied: pandas==2.2.2 in /opt/anaconda3/envs/capstone/lib/python3.12/site-packages (2.2.2)\n",
            "Requirement already satisfied: numpy>=1.26.0 in /opt/anaconda3/envs/capstone/lib/python3.12/site-packages (from pandas==2.2.2) (1.26.4)\n",
            "Requirement already satisfied: python-dateutil>=2.8.2 in /opt/anaconda3/envs/capstone/lib/python3.12/site-packages (from pandas==2.2.2) (2.9.0.post0)\n",
            "Requirement already satisfied: pytz>=2020.1 in /opt/anaconda3/envs/capstone/lib/python3.12/site-packages (from pandas==2.2.2) (2025.1)\n",
            "Requirement already satisfied: tzdata>=2022.7 in /opt/anaconda3/envs/capstone/lib/python3.12/site-packages (from pandas==2.2.2) (2025.1)\n",
            "Requirement already satisfied: six>=1.5 in /opt/anaconda3/envs/capstone/lib/python3.12/site-packages (from python-dateutil>=2.8.2->pandas==2.2.2) (1.17.0)\n",
            "Requirement already satisfied: requests in /opt/anaconda3/envs/capstone/lib/python3.12/site-packages (2.32.3)\n",
            "Requirement already satisfied: charset-normalizer<4,>=2 in /opt/anaconda3/envs/capstone/lib/python3.12/site-packages (from requests) (3.4.1)\n",
            "Requirement already satisfied: idna<4,>=2.5 in /opt/anaconda3/envs/capstone/lib/python3.12/site-packages (from requests) (3.10)\n",
            "Requirement already satisfied: urllib3<3,>=1.21.1 in /opt/anaconda3/envs/capstone/lib/python3.12/site-packages (from requests) (1.26.20)\n",
            "Requirement already satisfied: certifi>=2017.4.17 in /opt/anaconda3/envs/capstone/lib/python3.12/site-packages (from requests) (2025.1.31)\n",
            "Requirement already satisfied: zipfile36 in /opt/anaconda3/envs/capstone/lib/python3.12/site-packages (0.1.3)\n",
            "Requirement already satisfied: Python-IO in /opt/anaconda3/envs/capstone/lib/python3.12/site-packages (0.3)\n",
            "Requirement already satisfied: customtkinter in /opt/anaconda3/envs/capstone/lib/python3.12/site-packages (from Python-IO) (5.2.2)\n",
            "Requirement already satisfied: requests in /opt/anaconda3/envs/capstone/lib/python3.12/site-packages (from Python-IO) (2.32.3)\n",
            "Requirement already satisfied: darkdetect in /opt/anaconda3/envs/capstone/lib/python3.12/site-packages (from customtkinter->Python-IO) (0.8.0)\n",
            "Requirement already satisfied: packaging in /opt/anaconda3/envs/capstone/lib/python3.12/site-packages (from customtkinter->Python-IO) (24.2)\n",
            "Requirement already satisfied: charset-normalizer<4,>=2 in /opt/anaconda3/envs/capstone/lib/python3.12/site-packages (from requests->Python-IO) (3.4.1)\n",
            "Requirement already satisfied: idna<4,>=2.5 in /opt/anaconda3/envs/capstone/lib/python3.12/site-packages (from requests->Python-IO) (3.10)\n",
            "Requirement already satisfied: urllib3<3,>=1.21.1 in /opt/anaconda3/envs/capstone/lib/python3.12/site-packages (from requests->Python-IO) (1.26.20)\n",
            "Requirement already satisfied: certifi>=2017.4.17 in /opt/anaconda3/envs/capstone/lib/python3.12/site-packages (from requests->Python-IO) (2025.1.31)\n",
            "Requirement already satisfied: datetime in /opt/anaconda3/envs/capstone/lib/python3.12/site-packages (5.5)\n",
            "Requirement already satisfied: zope.interface in /opt/anaconda3/envs/capstone/lib/python3.12/site-packages (from datetime) (7.2)\n",
            "Requirement already satisfied: pytz in /opt/anaconda3/envs/capstone/lib/python3.12/site-packages (from datetime) (2025.1)\n",
            "Requirement already satisfied: setuptools in /opt/anaconda3/envs/capstone/lib/python3.12/site-packages (from zope.interface->datetime) (75.8.0)\n",
            "Requirement already satisfied: glob2 in /opt/anaconda3/envs/capstone/lib/python3.12/site-packages (0.7)\n",
            "Requirement already satisfied: bs4 in /opt/anaconda3/envs/capstone/lib/python3.12/site-packages (0.0.2)\n",
            "Requirement already satisfied: beautifulsoup4 in /opt/anaconda3/envs/capstone/lib/python3.12/site-packages (from bs4) (4.13.3)\n",
            "Requirement already satisfied: soupsieve>1.2 in /opt/anaconda3/envs/capstone/lib/python3.12/site-packages (from beautifulsoup4->bs4) (2.6)\n",
            "Requirement already satisfied: typing-extensions>=4.0.0 in /opt/anaconda3/envs/capstone/lib/python3.12/site-packages (from beautifulsoup4->bs4) (4.12.2)\n",
            "Requirement already satisfied: numpy in /opt/anaconda3/envs/capstone/lib/python3.12/site-packages (1.26.4)\n",
            "Environment is set up successfully.\n"
          ]
        }
      ],
      "source": [
        "# Install Required Packages\n",
        "import environment_setting as es # Replace my_module with the actual name of your module\n",
        "\n",
        "es.setting_env(parent_dir)"
      ]
    },
    {
      "cell_type": "code",
      "execution_count": 41,
      "metadata": {
        "colab": {
          "base_uri": "https://localhost:8080/",
          "height": 89
        },
        "id": "9sFkdFznlkPi",
        "outputId": "a25c6f82-d11e-44c7-93d0-57df695dc4dd"
      },
      "outputs": [
        {
          "name": "stdout",
          "output_type": "stream",
          "text": [
            "Downloading ShakeMap for event nc72282711...\n",
            "Extracted ShakeMap for event nc72282711 to /Users/yusufpradana/Library/CloudStorage/OneDrive-Personal/Gradschool/4_SPRING25/Capstone/github/EarthquakeDamageModel_Heinz/ShakeMaps/nc72282711\n",
            "Success! Downloaded ShakeMap for event nc72282711...\n"
          ]
        },
        {
          "data": {
            "text/plain": [
              "'/Users/yusufpradana/Library/CloudStorage/OneDrive-Personal/Gradschool/4_SPRING25/Capstone/github/EarthquakeDamageModel_Heinz/ShakeMaps/nc72282711'"
            ]
          },
          "execution_count": 41,
          "metadata": {},
          "output_type": "execute_result"
        }
      ],
      "source": [
        "# Running o1\n",
        "import o1_getshakemap as getshakemap\n",
        "\n",
        "feed_url = getshakemap.FEEDURL.format(EVENTID)\n",
        "jdict = getshakemap.fetch_earthquake_data(feed_url=feed_url)\n",
        "\n",
        "event = getshakemap.retrieve_event_data(jdict)\n",
        "getshakemap.download_and_extract_shakemap(event)"
      ]
    },
    {
      "cell_type": "code",
      "execution_count": 42,
      "metadata": {
        "colab": {
          "base_uri": "https://localhost:8080/",
          "height": 472
        },
        "id": "F8g3Z929wyaI",
        "outputId": "dbf63e63-06bc-425d-aaf6-2283b3a84a72"
      },
      "outputs": [
        {
          "name": "stdout",
          "output_type": "stream",
          "text": [
            "Census tracts shapefile already exists /Users/yusufpradana/Library/CloudStorage/OneDrive-Personal/Gradschool/4_SPRING25/Capstone/github/EarthquakeDamageModel_Heinz/Data/merged_shapefile/Nationwide_Tracts.gpkg\n",
            "---GeoPackage already exists: /Users/yusufpradana/Library/CloudStorage/OneDrive-Personal/Gradschool/4_SPRING25/Capstone/github/EarthquakeDamageModel_Heinz/ShakeMaps/nc72282711/eqmodel_outputs.gpkg\n",
            "Saved shakemap_tractclip_pga (clipped ShakeMap to tracts) to /Users/yusufpradana/Library/CloudStorage/OneDrive-Personal/Gradschool/4_SPRING25/Capstone/github/EarthquakeDamageModel_Heinz/ShakeMaps/nc72282711/eqmodel_outputs.gpkg\n",
            "=======================  pga clipped ====\n",
            "      AREA  PERIMETER  PGAPOL_  PGAPOL_ID  GRID_CODE  PARAMVALUE STATEFP  \\\n",
            "0      0.0        0.0        0          0          0        0.01      06   \n",
            "1      0.0        0.0        0          0          0        0.01      06   \n",
            "2      0.0        0.0        0          0          0        0.01      06   \n",
            "3      0.0        0.0        0          0          0        0.01      06   \n",
            "4      0.0        0.0        0          0          0        0.01      06   \n",
            "...    ...        ...      ...        ...        ...         ...     ...   \n",
            "3549   0.0        0.0       29         29          0        0.58      06   \n",
            "3550   0.0        0.0       29         29          0        0.58      06   \n",
            "3551   0.0        0.0       29         29          0        0.58      06   \n",
            "3552   0.0        0.0       29         29          0        0.58      06   \n",
            "3553   0.0        0.0       30         30          0        0.60      06   \n",
            "\n",
            "     COUNTYFP TRACTCE        GEOID     NAME              NAMELSAD  MTFCC  \\\n",
            "0         001  441402  06001441402  4414.02  Census Tract 4414.02  G5020   \n",
            "1         001  441501  06001441501  4415.01  Census Tract 4415.01  G5020   \n",
            "2         001  441521  06001441521  4415.21  Census Tract 4415.21  G5020   \n",
            "3         001  441522  06001441522  4415.22  Census Tract 4415.22  G5020   \n",
            "4         001  441601  06001441601  4416.01  Census Tract 4416.01  G5020   \n",
            "...       ...     ...          ...      ...                   ...    ...   \n",
            "3549      055  200705  06055200705  2007.05  Census Tract 2007.05  G5020   \n",
            "3550      055  200804  06055200804  2008.04  Census Tract 2008.04  G5020   \n",
            "3551      055  200803  06055200803  2008.03  Census Tract 2008.03  G5020   \n",
            "3552      055  201102  06055201102  2011.02  Census Tract 2011.02  G5020   \n",
            "3553      055  201102  06055201102  2011.02  Census Tract 2011.02  G5020   \n",
            "\n",
            "     FUNCSTAT      ALAND   AWATER     INTPTLAT      INTPTLON  \\\n",
            "0           S    1634514        0  +37.5823793  -122.0398730   \n",
            "1           S    2625003        0  +37.5699748  -122.0724418   \n",
            "2           S    1711300        0  +37.5729300  -122.0532584   \n",
            "3           S    1307234        0  +37.5845594  -122.0572546   \n",
            "4           S    1291645        0  +37.5635007  -122.0305372   \n",
            "...       ...        ...      ...          ...           ...   \n",
            "3549        S    1271604        0  +38.3056856  -122.3106008   \n",
            "3550        S    1228023        0  +38.2946539  -122.3074339   \n",
            "3551        S    5102681    18486  +38.2888263  -122.3383135   \n",
            "3552        S  148946697  5073076  +38.3214230  -122.3995495   \n",
            "3553        S  148946697  5073076  +38.3214230  -122.3995495   \n",
            "\n",
            "                                               geometry  \n",
            "0     POLYGON ((-122.05019 37.58367, -122.04981 37.5...  \n",
            "1     POLYGON ((-122.08022 37.56144, -122.08019 37.5...  \n",
            "2     POLYGON ((-122.06229 37.57172, -122.06152 37.5...  \n",
            "3     POLYGON ((-122.06341 37.58786, -122.06313 37.5...  \n",
            "4     POLYGON ((-122.03845 37.56348, -122.03837 37.5...  \n",
            "...                                                 ...  \n",
            "3549  POLYGON ((-122.31452 38.30215, -122.3142 38.30...  \n",
            "3550  MULTIPOLYGON (((-122.3135 38.3, -122.31243 38....  \n",
            "3551  POLYGON ((-122.33434 38.29066, -122.335 38.291...  \n",
            "3552  POLYGON ((-122.32673 38.27327, -122.32755 38.2...  \n",
            "3553  POLYGON ((-122.32505 38.28328, -122.3251 38.28...  \n",
            "\n",
            "[3554 rows x 19 columns]\n",
            "Saved tract_shakemap_pga (tract-level ShakeMap statistics) to /Users/yusufpradana/Library/CloudStorage/OneDrive-Personal/Gradschool/4_SPRING25/Capstone/github/EarthquakeDamageModel_Heinz/ShakeMaps/nc72282711/eqmodel_outputs.gpkg\n"
          ]
        }
      ],
      "source": [
        "# Running o2 census intersect\n",
        "import o2_census_intersect as census\n",
        "\n",
        "event_dir = os.path.join(parent_dir, 'ShakeMaps', EVENTID)\n",
        "\n",
        "census.shakemap_into_census_geo(event_dir, parent_dir)\n",
        "\n",
        "# Update with the actual path\n",
        "GPKG_PATH = os.path.join(event_dir, \"eqmodel_outputs.gpkg\")\n"
      ]
    },
    {
      "cell_type": "markdown",
      "metadata": {
        "id": "i5s4Aq_svewT"
      },
      "source": [
        "# RUN"
      ]
    },
    {
      "cell_type": "code",
      "execution_count": 43,
      "metadata": {
        "colab": {
          "base_uri": "https://localhost:8080/"
        },
        "id": "OAf0sM1kvHIq",
        "outputId": "1c7066c0-6da8-4bd8-dd9f-bbc50d5e3ab6"
      },
      "outputs": [
        {
          "name": "stdout",
          "output_type": "stream",
          "text": [
            "1. Reading event data for event ID: nc72282711\n",
            "2. Reading building count data...\n",
            "3. Reading building stock data...\n",
            "Building stock data exists at /Users/yusufpradana/Library/CloudStorage/OneDrive-Personal/Gradschool/4_SPRING25/Capstone/github/EarthquakeDamageModel_Heinz/Tables/Building_Percentages_Per_Tract_ALLSTATES.csv\n",
            "4. Merging building count and building stock data...\n",
            "5. Merging event data with building data...\n",
            "            GEOID  max_intensity  min_intensity  mean_intensity  \\\n",
            "0     06001400100           0.02           0.02            0.02   \n",
            "1     06001400200           0.02           0.02            0.02   \n",
            "2     06001400300           0.02           0.02            0.02   \n",
            "3     06001400400           0.02           0.02            0.02   \n",
            "4     06001400500           0.02           0.02            0.02   \n",
            "...           ...            ...            ...             ...   \n",
            "2600  06115040800           0.01           0.01            0.01   \n",
            "2601  06115040901           0.01           0.01            0.01   \n",
            "2602  06115040902           0.01           0.01            0.01   \n",
            "2603  06115041000           0.01           0.01            0.01   \n",
            "2604  06115041100           0.01           0.01            0.01   \n",
            "\n",
            "                                               geometry  OTHER_OTHER  \\\n",
            "0     MULTIPOLYGON (((-122.24692 37.88544, -122.2466...        104.0   \n",
            "1     MULTIPOLYGON (((-122.25792 37.84261, -122.2577...         46.0   \n",
            "2     MULTIPOLYGON (((-122.26563 37.83764, -122.2655...         67.0   \n",
            "3     MULTIPOLYGON (((-122.26183 37.84162, -122.2618...         57.0   \n",
            "4     MULTIPOLYGON (((-122.26951 37.84858, -122.2693...         56.0   \n",
            "...                                                 ...          ...   \n",
            "2600  MULTIPOLYGON (((-121.51553 39.03064, -121.5153...        454.0   \n",
            "2601  MULTIPOLYGON (((-121.58338 39.13621, -121.5831...        388.0   \n",
            "2602  MULTIPOLYGON (((-121.47722 39.13334, -121.4770...        759.0   \n",
            "2603  MULTIPOLYGON (((-121.63637 39.24608, -121.6362...        759.0   \n",
            "2604  MULTIPOLYGON (((-121.37257 39.37358, -121.3725...        759.0   \n",
            "\n",
            "      RESIDENTIAL_MULTI FAMILY  RESIDENTIAL_OTHER  RESIDENTIAL_SINGLE FAMILY  \\\n",
            "0                         22.0               10.0                     1162.0   \n",
            "1                        110.0                2.0                      538.0   \n",
            "2                        416.0                7.0                     1139.0   \n",
            "3                        391.0                3.0                      777.0   \n",
            "4                        342.0                6.0                      614.0   \n",
            "...                        ...                ...                        ...   \n",
            "2600                     128.0              136.0                     1256.0   \n",
            "2601                     109.0              491.0                     1025.0   \n",
            "2602                       0.0                0.0                        0.0   \n",
            "2603                       0.0                0.0                        0.0   \n",
            "2604                       0.0                0.0                        0.0   \n",
            "\n",
            "      TOTAL_BUILDING_COUNT  ...  PC2M  PC2H  RM1L  RM1M  RM2L  RM2M  RM2H  \\\n",
            "0                   1298.0  ...   0.0   0.0  27.0   0.0   2.0   0.0   0.0   \n",
            "1                    696.0  ...   0.0   0.0  22.0   0.0   2.0   0.0   0.0   \n",
            "2                   1629.0  ...   0.0   0.0  60.0   0.0   4.0   0.0   0.0   \n",
            "3                   1228.0  ...   0.0   0.0  39.0   0.0   2.0   0.0   0.0   \n",
            "4                   1018.0  ...   0.0   0.0  36.0   0.0   2.0   0.0   0.0   \n",
            "...                    ...  ...   ...   ...   ...   ...   ...   ...   ...   \n",
            "2600                1974.0  ...   0.0   0.0  47.0   0.0   4.0   0.0   0.0   \n",
            "2601                2013.0  ...   0.0   0.0  34.0   0.0   4.0   0.0   0.0   \n",
            "2602                 759.0  ...   0.0   0.0  24.0   0.0   2.0   0.0   0.0   \n",
            "2603                 759.0  ...   0.0   0.0  24.0   0.0   2.0   0.0   0.0   \n",
            "2604                 759.0  ...   0.0   0.0  24.0   0.0   2.0   0.0   0.0   \n",
            "\n",
            "      URML  URMM     MH  \n",
            "0      5.0   0.0    0.0  \n",
            "1      4.0   0.0    0.0  \n",
            "2     15.0   0.0    0.0  \n",
            "3      9.0   0.0    0.0  \n",
            "4      9.0   0.0    0.0  \n",
            "...    ...   ...    ...  \n",
            "2600  12.0   0.0   97.0  \n",
            "2601   7.0   0.0  708.0  \n",
            "2602   6.0   0.0    4.0  \n",
            "2603   6.0   0.0    4.0  \n",
            "2604   6.0   0.0    4.0  \n",
            "\n",
            "[2605 rows x 46 columns]\n"
          ]
        }
      ],
      "source": [
        "# Running o3 clip building\n",
        "import o3_clip_eventdata_buildingstocks as bs\n",
        "o3output = bs.building_clip_analysis(parent_dir, EVENTID)"
      ]
    },
    {
      "cell_type": "code",
      "execution_count": 44,
      "metadata": {
        "id": "cexotjknmOBM"
      },
      "outputs": [],
      "source": [
        "# Run o4\n",
        "import o4_TractLevel_DamageAssessmentModel as o4\n",
        "o4_output = o4.build_damage_estimates(o3output, parent_dir)"
      ]
    },
    {
      "cell_type": "markdown",
      "metadata": {},
      "source": [
        "# -- o5 --"
      ]
    },
    {
      "cell_type": "code",
      "execution_count": 45,
      "metadata": {},
      "outputs": [],
      "source": [
        "import pandas as pd\n",
        "import numpy as np\n",
        "\n",
        "o4out = o4_output.copy()"
      ]
    },
    {
      "cell_type": "code",
      "execution_count": 46,
      "metadata": {},
      "outputs": [
        {
          "data": {
            "text/plain": [
              "array(['06001400100', '06001400200', '06001400300', ..., '06115040902',\n",
              "       '06115041000', '06115041100'], dtype=object)"
            ]
          },
          "execution_count": 46,
          "metadata": {},
          "output_type": "execute_result"
        }
      ],
      "source": [
        "o4out['GEOID'] = o4out['GEOID'].astype(str)\n",
        "o4out['GEOID'] = np.where(o4out['GEOID'].str.len() == 11, o4out['GEOID'], o4out['GEOID'].str.zfill(11))\n",
        "o4out['GEOID'].unique()"
      ]
    },
    {
      "cell_type": "code",
      "execution_count": 47,
      "metadata": {},
      "outputs": [
        {
          "name": "stderr",
          "output_type": "stream",
          "text": [
            "/Users/yusufpradana/Library/CloudStorage/OneDrive-Personal/Gradschool/4_SPRING25/Capstone/github/EarthquakeDamageModel_Heinz/WorkingScripts/o5_bhi.py:65: DtypeWarning: Columns (2,3,4,5,6,7,8,9,10,11,12,13,14,15,16,17,18,19,20,21,22,23,24,25,26,27,28,29,30,31,32,33,34,35,36,37,38,39,40,41,42,43,44,45,46,47,48,49,50,51,52,53,54,55,56,57,58,59,60,61,62,63,64,65,66,67,68,69,70,71,72) have mixed types. Specify dtype option on import or set low_memory=False.\n",
            "  pop_data = pd.read_csv(pop_path)\n"
          ]
        },
        {
          "name": "stdout",
          "output_type": "stream",
          "text": [
            "62.95989034854798\n",
            "6.132855089474769e-06\n",
            "          GEOID  max_intensity  population  Total_Num_Building risk_level  \\\n",
            "7   06055200501           0.54        5159              1364.0        low   \n",
            "15  06055200504           0.50        6577              1483.0        low   \n",
            "30  06095251802           0.34        3132               721.0        low   \n",
            "14  06055200301           0.50        5602              1433.0        low   \n",
            "34  06055201004           0.32        6836              1615.0        low   \n",
            "9   06055200202           0.54        2479               697.0        low   \n",
            "5   06055200804           0.58        5535              1036.0        low   \n",
            "18  06055200601           0.48        4892              1461.0        low   \n",
            "47  06095250701           0.28        3473              1145.0        low   \n",
            "6   06055200201           0.56        3259              1149.0        low   \n",
            "3   06055200705           0.58        2845               783.0        low   \n",
            "8   06055200704           0.54        4493              1284.0        low   \n",
            "10  06055200203           0.54        2312               661.0        low   \n",
            "1   06055200803           0.58        2149               750.0        low   \n",
            "36  06095251902           0.32        6123              1595.0        low   \n",
            "22  06055200602           0.44        4594              1235.0        low   \n",
            "35  06095251500           0.32        3992              1120.0        low   \n",
            "53  06055201300           0.26        3436               994.0        low   \n",
            "23  06055200505           0.44        2617               436.0        low   \n",
            "16  06055200707           0.50        3302               841.0        low   \n",
            "4   06055200802           0.58        5887              1322.0        low   \n",
            "31  06095251400           0.34        6010              1959.0        low   \n",
            "46  06095250900           0.28        3038               342.0        low   \n",
            "67  06097150305           0.18        5353              1280.0        low   \n",
            "44  06095251903           0.28        5906              1625.0        low   \n",
            "37  06095251901           0.32        5264              1414.0        low   \n",
            "45  06095251000           0.28        2742               724.0        low   \n",
            "21  06055201200           0.46        4700              2086.0        low   \n",
            "29  06055201006           0.36        3422              1118.0        low   \n",
            "68  06097150203           0.18        4529              2042.0        low   \n",
            "32  06055201007           0.34        4226              1053.0        low   \n",
            "19  06055201005           0.46        2602              1250.0        low   \n",
            "66  06095250200           0.20        4280              1251.0        low   \n",
            "39  06095251600           0.30        2694               727.0        low   \n",
            "40  06095251701           0.30        3800               975.0        low   \n",
            "24  06055200302           0.42        2721               938.0        low   \n",
            "57  06095250601           0.24        4833              1577.0        low   \n",
            "43  06095251100           0.28        3490              1031.0        low   \n",
            "65  06095250501           0.20        2215               829.0        low   \n",
            "42  06095251200           0.28        3639              1189.0        low   \n",
            "56  06095250300           0.24        3539              1231.0        low   \n",
            "51  06095251702           0.26        2819               444.0        low   \n",
            "54  06095250103           0.24        4804              1271.0        low   \n",
            "71  06097150304           0.16        5834              1935.0        low   \n",
            "33  06095251803           0.32        5526              1409.0        low   \n",
            "70  06097150306           0.16        3746              1456.0        low   \n",
            "27  06055201003           0.38        5447              1290.0        low   \n",
            "20  06055200900           0.46          67               254.0        low   \n",
            "55  06095250105           0.24        7243              1687.0        low   \n",
            "50  06013358000           0.26        6237              2127.0        low   \n",
            "\n",
            "    BHI_factor_low  BHI_factor_high  shelter_seeking_low  \\\n",
            "7         0.043347         0.082241            11.181362   \n",
            "15        0.019865         0.056024             6.532571   \n",
            "30        0.039039         0.072304             6.113556   \n",
            "14        0.017477         0.053613             4.895385   \n",
            "34        0.019096         0.046488             3.263517   \n",
            "9         0.023143         0.064057             2.868547   \n",
            "5         0.018927         0.061874             2.618993   \n",
            "18        0.020615         0.057897             2.521237   \n",
            "47        0.013632         0.039107             2.367238   \n",
            "6         0.028009         0.070180             2.282003   \n",
            "3         0.031990         0.073969             2.275292   \n",
            "8         0.014021         0.055256             1.574854   \n",
            "10        0.012337         0.052856             1.426116   \n",
            "1         0.024400         0.067171             1.310868   \n",
            "36        0.008375         0.036700             1.281977   \n",
            "22        0.005040         0.038256             1.157666   \n",
            "35        0.005615         0.033750             1.120816   \n",
            "53        0.006260         0.026472             1.075392   \n",
            "23        0.007618         0.043828             0.996822   \n",
            "16        0.008983         0.048568             0.741582   \n",
            "4         0.005014         0.038201             0.737968   \n",
            "31        0.003183         0.026534             0.478288   \n",
            "46        0.003046         0.026948             0.462632   \n",
            "67        0.001565         0.014512             0.418849   \n",
            "44        0.001336         0.019158             0.394501   \n",
            "37        0.001427         0.021806             0.375586   \n",
            "45        0.005099         0.031050             0.349528   \n",
            "21        0.001369         0.015223             0.321617   \n",
            "29        0.002117         0.033461             0.181082   \n",
            "68        0.001597         0.014659             0.180848   \n",
            "32        0.001658         0.033036             0.175199   \n",
            "19        0.002692         0.028827             0.175116   \n",
            "66        0.000665         0.011001             0.142386   \n",
            "39        0.000981         0.021371             0.132207   \n",
            "40        0.000533         0.017904             0.101345   \n",
            "24        0.001225         0.028584             0.083344   \n",
            "57        0.000314         0.012012             0.075763   \n",
            "43        0.000710         0.020874             0.061937   \n",
            "65        0.001090         0.014049             0.060341   \n",
            "42        0.000605         0.020723             0.055027   \n",
            "56        0.000572         0.017934             0.050618   \n",
            "51        0.000654         0.020752             0.046118   \n",
            "54        0.000359         0.014845             0.043102   \n",
            "71        0.000246         0.009318             0.035922   \n",
            "33        0.000226         0.017393             0.031207   \n",
            "70        0.000326         0.009660             0.030569   \n",
            "27        0.000190         0.007027             0.025876   \n",
            "20        0.007181         0.037816             0.024056   \n",
            "55        0.000124         0.011577             0.022530   \n",
            "50        0.000066         0.006186             0.020517   \n",
            "\n",
            "    shelter_seeking_high  Total_Num_Building_Slight  \\\n",
            "7              21.213940                 606.296888   \n",
            "15             18.423412                 715.866724   \n",
            "30             11.322862                 244.544778   \n",
            "14             15.016871                 695.493850   \n",
            "34              7.944792                 567.634254   \n",
            "9               7.939863                 310.323739   \n",
            "5               8.561760                 451.359935   \n",
            "18              7.080854                 708.947916   \n",
            "47              6.790952                 407.477460   \n",
            "6               5.717893                 495.197175   \n",
            "3               5.261022                 339.856555   \n",
            "8               6.206640                 607.129375   \n",
            "10              6.110205                 319.340473   \n",
            "1               3.608782                 322.779321   \n",
            "36              5.617862                 712.914928   \n",
            "22              8.787394                 618.272406   \n",
            "35              6.736493                 503.042820   \n",
            "53              4.547826                 300.002510   \n",
            "23              5.734911                 219.674747   \n",
            "16              4.009292                 416.468972   \n",
            "4               5.622220                 661.321237   \n",
            "31              3.986789                 784.652928   \n",
            "46              4.093366                 135.209393   \n",
            "67              3.884203                 274.743442   \n",
            "44              5.657214                 524.305889   \n",
            "37              5.739292                 515.181107   \n",
            "45              2.128495                 309.373920   \n",
            "21              3.577483                 465.887950   \n",
            "29              2.862595                 554.562248   \n",
            "68              1.659770                 440.922679   \n",
            "32              3.490235                 526.412131   \n",
            "19              1.875226                 535.673718   \n",
            "66              2.354272                 232.988441   \n",
            "39              2.878735                 265.965934   \n",
            "40              3.401816                 313.407328   \n",
            "24              1.944452                 433.733613   \n",
            "57              2.902772                 350.238512   \n",
            "43              1.821226                 376.841152   \n",
            "65              0.777956                 192.654648   \n",
            "42              1.885315                 434.916934   \n",
            "56              1.586749                 395.506555   \n",
            "51              1.462509                 162.963550   \n",
            "54              1.782843                 347.158508   \n",
            "71              1.359044                 333.309339   \n",
            "33              2.402811                 453.256037   \n",
            "70              0.904693                 255.204197   \n",
            "27              0.956850                 165.744007   \n",
            "20              0.126683                 111.483864   \n",
            "55              2.096281                 371.791430   \n",
            "50              1.929134                 252.898857   \n",
            "\n",
            "    Total_Num_Building_Moderate  Total_Num_Building_Extensive  \\\n",
            "7                    385.247878                     91.773362   \n",
            "15                   317.057498                     52.376864   \n",
            "30                   178.307391                     75.604643   \n",
            "14                   306.218072                     44.942123   \n",
            "34                   251.830920                     86.913432   \n",
            "9                    235.163471                     32.992116   \n",
            "5                    403.338263                     46.768024   \n",
            "18                   341.205363                     51.941160   \n",
            "47                   143.222332                     43.492910   \n",
            "6                    426.088012                     63.416952   \n",
            "3                    285.247335                     42.731014   \n",
            "8                    422.086792                     39.498107   \n",
            "10                   203.164246                     17.501117   \n",
            "1                    290.145796                     38.040681   \n",
            "36                   167.761119                     30.425957   \n",
            "22                   193.501659                     11.501023   \n",
            "35                   117.120349                     13.353586   \n",
            "53                    87.943719                     18.477497   \n",
            "23                    91.495119                      6.080680   \n",
            "16                   236.777818                     16.716772   \n",
            "4                    206.961416                     12.178839   \n",
            "31                   118.810697                     15.207906   \n",
            "46                    26.639141                      2.182104   \n",
            "67                    52.358568                      5.797831   \n",
            "44                    50.579540                      5.747499   \n",
            "37                    57.573971                      4.734773   \n",
            "45                    60.112159                      8.359259   \n",
            "21                   106.355008                      7.701547   \n",
            "29                   143.237203                      4.073167   \n",
            "68                    85.440021                      9.438523   \n",
            "32                   132.281643                      2.819810   \n",
            "19                   112.450022                      6.996548   \n",
            "66                    23.849115                      2.355233   \n",
            "39                    29.477763                      1.364437   \n",
            "40                    24.585068                      0.984454   \n",
            "24                    78.180292                      1.788015   \n",
            "57                    17.783071                      1.276194   \n",
            "43                    37.971095                      1.282488   \n",
            "65                    20.246003                      2.615646   \n",
            "42                    42.615175                      1.180498   \n",
            "56                    30.795380                      1.542175   \n",
            "51                    15.139731                      0.484942   \n",
            "54                    20.308653                      1.013497   \n",
            "71                    16.813772                      1.273700   \n",
            "33                    30.238664                      0.356719   \n",
            "70                    15.624022                      1.301287   \n",
            "27                    10.163403                      0.635560   \n",
            "20                    41.171815                      3.947276   \n",
            "55                    14.341414                      0.363077   \n",
            "50                     7.212560                      0.328462   \n",
            "\n",
            "    Total_Num_Building_Complete  SVI_Value  SVI_Value_Mapped  \n",
            "7                     31.991378     0.8482             0.050  \n",
            "15                    13.246817     0.8705             0.050  \n",
            "30                     6.317092     0.9877             0.050  \n",
            "14                    10.902583     0.9483             0.050  \n",
            "34                     5.404733     0.6287             0.025  \n",
            "9                      5.636208     0.8404             0.050  \n",
            "5                      4.205132     0.6720             0.025  \n",
            "18                    13.880865     0.4043             0.025  \n",
            "47                     2.770046     0.8838             0.050  \n",
            "6                     12.204563     0.7605             0.025  \n",
            "3                     11.664694     0.4310             0.025  \n",
            "8                      4.481956     0.7134             0.025  \n",
            "10                     2.060293     0.8919             0.050  \n",
            "1                      6.067841     0.4772             0.025  \n",
            "36                     3.975803     0.7373             0.025  \n",
            "22                     1.838674     0.8299             0.050  \n",
            "35                     1.891572     0.9358             0.050  \n",
            "53                     0.580077     0.8095             0.050  \n",
            "23                     1.074990     0.8035             0.050  \n",
            "16                     1.446373     0.4283             0.025  \n",
            "4                      1.971833     0.7401             0.025  \n",
            "31                     1.306423     0.5148             0.025  \n",
            "46                     0.273572     0.9796             0.050  \n",
            "67                     0.069679     0.8409             0.050  \n",
            "44                     0.266627     0.8395             0.050  \n",
            "37                     0.348096     0.9900             0.050  \n",
            "45                     1.021471     0.6826             0.025  \n",
            "21                     0.046514     0.8008             0.050  \n",
            "29                     0.321391     0.5626             0.025  \n",
            "68                     0.112754     0.6605             0.025  \n",
            "32                     0.113053     0.4234             0.025  \n",
            "19                     0.723806     0.6568             0.025  \n",
            "66                     0.030227     0.8086             0.050  \n",
            "39                     0.149561     0.9151             0.050  \n",
            "40                     0.091264     0.8097             0.050  \n",
            "24                     0.152255     0.5299             0.025  \n",
            "57                     0.028425     0.8088             0.050  \n",
            "43                     0.134956     0.7560             0.025  \n",
            "65                     0.053456     0.4953             0.025  \n",
            "42                     0.119823     0.7762             0.025  \n",
            "56                     0.081563     0.7682             0.025  \n",
            "51                     0.059922     0.6377             0.025  \n",
            "54                     0.046303     0.6111             0.025  \n",
            "71                     0.017345     0.5098             0.025  \n",
            "33                     0.024087     0.4380             0.025  \n",
            "70                     0.016164     0.5731             0.025  \n",
            "27                     0.004373     0.4205             0.025  \n",
            "20                     0.479962     0.8607             0.050  \n",
            "55                     0.017161     0.5444             0.025  \n",
            "50                     0.002780     0.8728             0.050  \n"
          ]
        }
      ],
      "source": [
        "from o5_bhi import process_bhi\n",
        "from o5_svi_module import process_svi\n",
        "import os\n",
        "parent_dir = os.path.dirname(os.getcwd())\n",
        "# ================================================\n",
        "# o5 - Implement BHI\n",
        "# ================================================\n",
        "df = process_bhi(o4out, parent_dir)\n",
        "\n",
        "\n",
        "df[\"population\"] = df[\"population\"].astype(int)\n",
        "df[\"shelter_seeking_low\"] = df[\"BHI_factor_low\"]*df[\"population\"]\n",
        "df[\"shelter_seeking_high\"] = df[\"BHI_factor_high\"]*df[\"population\"]\n",
        "cols = [\"GEOID\", \"max_intensity\", \"population\", \"Total_Num_Building\", \"risk_level\",\n",
        "        \"BHI_factor_low\", \"BHI_factor_high\",\n",
        "        \"shelter_seeking_low\", \"shelter_seeking_high\",\n",
        "        \"Total_Num_Building_Slight\", \"Total_Num_Building_Moderate\", \n",
        "            \"Total_Num_Building_Extensive\", \"Total_Num_Building_Complete\"]\n",
        "df = df[cols]\n",
        "df[\"GEOID\"] = df[\"GEOID\"].astype(str)\n",
        "\n",
        "\n",
        "# ================================================\n",
        "# o6 - Download SVI data \n",
        "# ================================================\n",
        "# download SVI (optional)\n",
        "# process SVI\n",
        "\n",
        "# apply SVI \n",
        "svi = process_svi(parent_dir)\n",
        "svi[\"FIPS\"] = svi[\"FIPS\"].astype(str)\n",
        "svi[\"FIPS\"] = np.where(svi[\"FIPS\"].str.len() == 11, svi[\"FIPS\"], svi[\"FIPS\"].str.zfill(11))\n",
        "\n",
        "\n",
        "df = df.merge(svi, left_on = \"GEOID\", right_on=\"FIPS\")\n",
        "\n",
        "# ================================================\n",
        "# o7 - Combine SVI and BHI, Format Output Data\n",
        "# ================================================\n",
        "\n",
        "df[\"shelter_seeking_low\"] = df[\"shelter_seeking_low\"]*df[\"SVI_Value_Mapped\"] \n",
        "df[\"shelter_seeking_high\"] = df[\"shelter_seeking_high\"]*df[\"SVI_Value_Mapped\"]\n",
        "\n",
        "df = df.drop(columns=[\"FIPS\"])\n",
        "\n",
        "print(df[\"shelter_seeking_low\"].sum())\n",
        "print(df[\"shelter_seeking_low\"].sum()/df[\"population\"].sum())\n",
        "\n",
        "df = df.sort_values(by=[\"shelter_seeking_low\"], ascending=False)\n",
        "\n",
        "print(df.head(50))\n",
        "save_path = os.path.join(parent_dir, f\"Data/final_output_new_{EVENTID}.csv\")\n",
        "df.to_csv(save_path, index=False)"
      ]
    }
  ],
  "metadata": {
    "colab": {
      "collapsed_sections": [
        "F6cPdNtv0yqz",
        "X0newIcWrdcC",
        "i5s4Aq_svewT"
      ],
      "provenance": []
    },
    "kernelspec": {
      "display_name": "Python 3",
      "name": "python3"
    },
    "language_info": {
      "name": "python"
    }
  },
  "nbformat": 4,
  "nbformat_minor": 0
}
