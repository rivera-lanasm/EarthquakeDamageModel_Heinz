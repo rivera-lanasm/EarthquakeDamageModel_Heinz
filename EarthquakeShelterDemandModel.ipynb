{
  "cells": [
    {
      "cell_type": "code",
      "execution_count": 1,
      "metadata": {
        "colab": {
          "base_uri": "https://localhost:8080/"
        },
        "id": "yBN8ZgjRB-v7",
        "outputId": "8ec6a7a0-73fb-49ea-cebd-ec194634b2dc"
      },
      "outputs": [
        {
          "name": "stdout",
          "output_type": "stream",
          "text": [
            "Mounted at /content/drive\n"
          ]
        }
      ],
      "source": [
        "from google.colab import drive\n",
        "drive.mount('/content/drive')\n"
      ]
    },
    {
      "cell_type": "markdown",
      "metadata": {},
      "source": [
        "### Update the FILE_PATH variable below according to the pat in Google Drive where \"EarthquakeDamageModel_Heinz\" is located"
      ]
    },
    {
      "cell_type": "code",
      "execution_count": null,
      "metadata": {
        "id": "X_l44UlZCQZH"
      },
      "outputs": [],
      "source": [
        "import os\n",
        "FILE_PATH = '/content/drive/MyDrive/RedCrossExample/heinz_redcross_extract/EarthquakeDamageModel_Heinz'\n",
        "os.chdir(FILE_PATH)\n"
      ]
    },
    {
      "cell_type": "markdown",
      "metadata": {
        "id": "qrHzZTGPC3R5"
      },
      "source": [
        "### Verifying that your path is correctly set\n",
        "\n",
        "When you run the above code to change working directory `os.chdir`, it should output the following\n",
        "\n",
        "```\n",
        "Data/                               README.md         WorkingScripts/\n",
        "EarthquakeShelterDemandModel.ipynb  requirements.txt\n",
        "main.py   \n",
        "```\n"
      ]
    },
    {
      "cell_type": "code",
      "execution_count": null,
      "metadata": {
        "id": "niWtejspCQd-"
      },
      "outputs": [],
      "source": [
        "from main import main\n",
        "import os\n",
        "import pandas as pd\n",
        "import time"
      ]
    },
    {
      "cell_type": "markdown",
      "metadata": {
        "id": "Jh6mAt5IDcZM"
      },
      "source": [
        "## Add \"params\" code snippet below, overwrite anything you see there"
      ]
    },
    {
      "cell_type": "code",
      "execution_count": 8,
      "metadata": {
        "id": "NpLJujpcDa96"
      },
      "outputs": [],
      "source": [
        "  # USER INPUT\n",
        "params = {\n",
        "      \"event_id\": \"nc72282711\",\n",
        "      \"name\": \"2014NapaValley\",\n",
        "      \"BLDNG_USABILITY\": {\n",
        "              \"Slight\":{\"FU\":1.00,\"PU\":0.00,\"NU\":0.00},\n",
        "              \"Moderate\":{\"FU\":0.87,\"PU\":0.13,\"NU\":0.00},\n",
        "              \"Extensive\":{\"FU\":0.25,\"PU\":0.50,\"NU\":0.25},\n",
        "              \"Complete\":{\"FU\":0.00,\"PU\":0.02,\"NU\":0.98}\n",
        "              },\n",
        "      \"UL_SEVERITY\": {\n",
        "              \"low\": {\"FU\": [0.00,0.05], \"PU\": [0.05,0.10]},\n",
        "              \"medium\": {\"FU\": [0.00,0.10], \"PU\": [0.30,0.50]},\n",
        "              \"high\": {\"FU\": [0.10,0.30], \"PU\": [0.60,0.80]}\n",
        "              },\n",
        "      \"SVI_THRESHOLD\": [\n",
        "                      0.000,\n",
        "                      0.025,\n",
        "                      0.050\n",
        "                      ]\n",
        "      }"
      ]
    },
    {
      "cell_type": "markdown",
      "metadata": {
        "id": "erV_Tia1Djp4"
      },
      "source": [
        "### Once the code completes running:\n",
        "\n",
        "- Below, we will run the code! Once the code is complete, you will see a file called \"shelter_demand_estimate.csv\"\n",
        "- download the output file to your local file system, and upload this to the\n",
        "\n"
      ]
    },
    {
      "cell_type": "code",
      "execution_count": null,
      "metadata": {
        "colab": {
          "base_uri": "https://localhost:8080/"
        },
        "id": "Vq8pZjA-DbFv",
        "outputId": "cef56248-cddc-42ab-b30c-c2d22baa9644"
      },
      "outputs": [
        {
          "name": "stdout",
          "output_type": "stream",
          "text": [
            "nc72282711: ShakeMap already downloaded.\n",
            "GeoPackage already exists at: /content/drive/MyDrive/RedCrossExample/heinz_redcross_extract/EarthquakeDamageModel_Heinz/Data/merged_shapefile/Nationwide_Tracts.gpkg\n",
            "Cleaning up intermediate files...\n",
            "Census shapefile download and merge complete.\n",
            "Saved shakemap_tractclip_pga (clipped ShakeMap to tracts) to /content/drive/MyDrive/RedCrossExample/heinz_redcross_extract/EarthquakeDamageModel_Heinz/Data/Shakemap/nc72282711/eqmodel_outputs.gpkg\n",
            "Saved tract_shakemap_pga (tract-level ShakeMap statistics) to /content/drive/MyDrive/RedCrossExample/heinz_redcross_extract/EarthquakeDamageModel_Heinz/Data/Shakemap/nc72282711/eqmodel_outputs.gpkg\n",
            "Building clip analysis completed for event ID: nc72282711\n"
          ]
        }
      ],
      "source": [
        "main(**params)"
      ]
    },
    {
      "cell_type": "code",
      "execution_count": null,
      "metadata": {
        "id": "pvDdNVcfDbLV"
      },
      "outputs": [],
      "source": []
    }
  ],
  "metadata": {
    "colab": {
      "provenance": []
    },
    "kernelspec": {
      "display_name": "Python 3",
      "name": "python3"
    },
    "language_info": {
      "name": "python"
    }
  },
  "nbformat": 4,
  "nbformat_minor": 0
}
